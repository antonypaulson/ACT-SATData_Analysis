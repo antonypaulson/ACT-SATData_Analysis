{
 "cells": [
  {
   "cell_type": "markdown",
   "metadata": {},
   "source": [
    "# Project 1: SAT & ACT Analysis"
   ]
  },
  {
   "cell_type": "markdown",
   "metadata": {},
   "source": [
    "\n",
    "\n",
    "## Problem Statement"
   ]
  },
  {
   "attachments": {},
   "cell_type": "markdown",
   "metadata": {},
   "source": [
    "As a data analyst for the department of education of Hawaii, I am tasked with analyzing the national average performance on SAT & ACT tests\n",
    "Find factors influencing scores\n",
    "Understand Hawaii's standing when it comes to these tests\n",
    "Suggest improvements through data analysis & external research\n"
   ]
  },
  {
   "cell_type": "code",
   "execution_count": 1,
   "metadata": {},
   "outputs": [],
   "source": [
    "#Importing libraries\n",
    "import numpy as np\n",
    "import pandas as pd\n",
    "import matplotlib.pyplot as plt\n",
    "%matplotlib inline"
   ]
  },
  {
   "cell_type": "markdown",
   "metadata": {},
   "source": [
    "## 2017 Data Import and Cleaning"
   ]
  },
  {
   "cell_type": "code",
   "execution_count": 2,
   "metadata": {},
   "outputs": [],
   "source": [
    "#Read In SAT & ACT  Data:\n",
    "sat_df = pd.read_csv('sat_2017.csv')\n",
    "act_df = pd.read_csv('act_2017.csv')"
   ]
  },
  {
   "cell_type": "markdown",
   "metadata": {},
   "source": [
    "#### 2. Display Data\n",
    "\n",
    "Print the first 10 rows of each dataframe to your jupyter notebook"
   ]
  },
  {
   "cell_type": "code",
   "execution_count": 3,
   "metadata": {},
   "outputs": [
    {
     "data": {
      "text/html": [
       "<div>\n",
       "<style scoped>\n",
       "    .dataframe tbody tr th:only-of-type {\n",
       "        vertical-align: middle;\n",
       "    }\n",
       "\n",
       "    .dataframe tbody tr th {\n",
       "        vertical-align: top;\n",
       "    }\n",
       "\n",
       "    .dataframe thead th {\n",
       "        text-align: right;\n",
       "    }\n",
       "</style>\n",
       "<table border=\"1\" class=\"dataframe\">\n",
       "  <thead>\n",
       "    <tr style=\"text-align: right;\">\n",
       "      <th></th>\n",
       "      <th>State</th>\n",
       "      <th>Participation</th>\n",
       "      <th>Evidence-Based Reading and Writing</th>\n",
       "      <th>Math</th>\n",
       "      <th>Total</th>\n",
       "    </tr>\n",
       "  </thead>\n",
       "  <tbody>\n",
       "    <tr>\n",
       "      <th>0</th>\n",
       "      <td>Alabama</td>\n",
       "      <td>5%</td>\n",
       "      <td>593</td>\n",
       "      <td>572</td>\n",
       "      <td>1165</td>\n",
       "    </tr>\n",
       "    <tr>\n",
       "      <th>1</th>\n",
       "      <td>Alaska</td>\n",
       "      <td>38%</td>\n",
       "      <td>547</td>\n",
       "      <td>533</td>\n",
       "      <td>1080</td>\n",
       "    </tr>\n",
       "    <tr>\n",
       "      <th>2</th>\n",
       "      <td>Arizona</td>\n",
       "      <td>30%</td>\n",
       "      <td>563</td>\n",
       "      <td>553</td>\n",
       "      <td>1116</td>\n",
       "    </tr>\n",
       "    <tr>\n",
       "      <th>3</th>\n",
       "      <td>Arkansas</td>\n",
       "      <td>3%</td>\n",
       "      <td>614</td>\n",
       "      <td>594</td>\n",
       "      <td>1208</td>\n",
       "    </tr>\n",
       "    <tr>\n",
       "      <th>4</th>\n",
       "      <td>California</td>\n",
       "      <td>53%</td>\n",
       "      <td>531</td>\n",
       "      <td>524</td>\n",
       "      <td>1055</td>\n",
       "    </tr>\n",
       "  </tbody>\n",
       "</table>\n",
       "</div>"
      ],
      "text/plain": [
       "        State Participation  Evidence-Based Reading and Writing  Math  Total\n",
       "0     Alabama            5%                                 593   572   1165\n",
       "1      Alaska           38%                                 547   533   1080\n",
       "2     Arizona           30%                                 563   553   1116\n",
       "3    Arkansas            3%                                 614   594   1208\n",
       "4  California           53%                                 531   524   1055"
      ]
     },
     "execution_count": 3,
     "metadata": {},
     "output_type": "execute_result"
    }
   ],
   "source": [
    "#Displaying the head of the sat data\n",
    "sat_df.head()"
   ]
  },
  {
   "cell_type": "code",
   "execution_count": 4,
   "metadata": {},
   "outputs": [
    {
     "data": {
      "text/html": [
       "<div>\n",
       "<style scoped>\n",
       "    .dataframe tbody tr th:only-of-type {\n",
       "        vertical-align: middle;\n",
       "    }\n",
       "\n",
       "    .dataframe tbody tr th {\n",
       "        vertical-align: top;\n",
       "    }\n",
       "\n",
       "    .dataframe thead th {\n",
       "        text-align: right;\n",
       "    }\n",
       "</style>\n",
       "<table border=\"1\" class=\"dataframe\">\n",
       "  <thead>\n",
       "    <tr style=\"text-align: right;\">\n",
       "      <th></th>\n",
       "      <th>State</th>\n",
       "      <th>Participation</th>\n",
       "      <th>English</th>\n",
       "      <th>Math</th>\n",
       "      <th>Reading</th>\n",
       "      <th>Science</th>\n",
       "      <th>Composite</th>\n",
       "    </tr>\n",
       "  </thead>\n",
       "  <tbody>\n",
       "    <tr>\n",
       "      <th>0</th>\n",
       "      <td>National</td>\n",
       "      <td>60%</td>\n",
       "      <td>20.3</td>\n",
       "      <td>20.7</td>\n",
       "      <td>21.4</td>\n",
       "      <td>21.0</td>\n",
       "      <td>21.0</td>\n",
       "    </tr>\n",
       "    <tr>\n",
       "      <th>1</th>\n",
       "      <td>Alabama</td>\n",
       "      <td>100%</td>\n",
       "      <td>18.9</td>\n",
       "      <td>18.4</td>\n",
       "      <td>19.7</td>\n",
       "      <td>19.4</td>\n",
       "      <td>19.2</td>\n",
       "    </tr>\n",
       "    <tr>\n",
       "      <th>2</th>\n",
       "      <td>Alaska</td>\n",
       "      <td>65%</td>\n",
       "      <td>18.7</td>\n",
       "      <td>19.8</td>\n",
       "      <td>20.4</td>\n",
       "      <td>19.9</td>\n",
       "      <td>19.8</td>\n",
       "    </tr>\n",
       "    <tr>\n",
       "      <th>3</th>\n",
       "      <td>Arizona</td>\n",
       "      <td>62%</td>\n",
       "      <td>18.6</td>\n",
       "      <td>19.8</td>\n",
       "      <td>20.1</td>\n",
       "      <td>19.8</td>\n",
       "      <td>19.7</td>\n",
       "    </tr>\n",
       "    <tr>\n",
       "      <th>4</th>\n",
       "      <td>Arkansas</td>\n",
       "      <td>100%</td>\n",
       "      <td>18.9</td>\n",
       "      <td>19.0</td>\n",
       "      <td>19.7</td>\n",
       "      <td>19.5</td>\n",
       "      <td>19.4</td>\n",
       "    </tr>\n",
       "  </tbody>\n",
       "</table>\n",
       "</div>"
      ],
      "text/plain": [
       "      State Participation  English  Math  Reading  Science Composite\n",
       "0  National           60%     20.3  20.7     21.4     21.0      21.0\n",
       "1   Alabama          100%     18.9  18.4     19.7     19.4      19.2\n",
       "2    Alaska           65%     18.7  19.8     20.4     19.9      19.8\n",
       "3   Arizona           62%     18.6  19.8     20.1     19.8      19.7\n",
       "4  Arkansas          100%     18.9  19.0     19.7     19.5      19.4"
      ]
     },
     "execution_count": 4,
     "metadata": {},
     "output_type": "execute_result"
    }
   ],
   "source": [
    "#Displaying the head of the act data\n",
    "act_df.head()"
   ]
  },
  {
   "cell_type": "markdown",
   "metadata": {},
   "source": [
    "#### 3. Verbally Describe Data\n",
    "\n",
    "Take your time looking through the data and thoroughly describe the data in the markdown cell below. "
   ]
  },
  {
   "cell_type": "markdown",
   "metadata": {},
   "source": [
    "Answer: The data contains information about two different tests, namely the SAT's and the ACT's. The SAT information is across various features like the state where the test was taken, Participation, Scores in writing and Math and finally the Total score.\n",
    "\n",
    "In a similar manner the ACT information is across features like state, participation, scores in English, math, reading and Science and finally the composite score."
   ]
  },
  {
   "cell_type": "markdown",
   "metadata": {},
   "source": [
    "#### 4a. Does the data look complete? \n",
    "\n",
    "Yes the data does look complete without any missing values. "
   ]
  },
  {
   "cell_type": "code",
   "execution_count": 5,
   "metadata": {},
   "outputs": [
    {
     "data": {
      "text/plain": [
       "State                                 0\n",
       "Participation                         0\n",
       "Evidence-Based Reading and Writing    0\n",
       "Math                                  0\n",
       "Total                                 0\n",
       "dtype: int64"
      ]
     },
     "execution_count": 5,
     "metadata": {},
     "output_type": "execute_result"
    }
   ],
   "source": [
    "sat_df.isnull().sum()"
   ]
  },
  {
   "cell_type": "code",
   "execution_count": 6,
   "metadata": {},
   "outputs": [
    {
     "data": {
      "text/plain": [
       "State            0\n",
       "Participation    0\n",
       "English          0\n",
       "Math             0\n",
       "Reading          0\n",
       "Science          0\n",
       "Composite        0\n",
       "dtype: int64"
      ]
     },
     "execution_count": 6,
     "metadata": {},
     "output_type": "execute_result"
    }
   ],
   "source": [
    "act_df.isnull().sum()"
   ]
  },
  {
   "cell_type": "markdown",
   "metadata": {},
   "source": [
    "Answer:"
   ]
  },
  {
   "cell_type": "markdown",
   "metadata": {},
   "source": [
    "#### 4b. Are there any obvious issues with the observations?\n",
    "\n",
    "**What is the minimum *possible* value for each test/subtest? What is the maximum *possible* value?**\n",
    "\n",
    "Consider comparing any questionable values to the sources of your data:\n",
    "- [SAT](https://blog.collegevine.com/here-are-the-average-sat-scores-by-state/)\n",
    "- [ACT](https://blog.prepscholar.com/act-scores-by-state-averages-highs-and-lows)"
   ]
  },
  {
   "cell_type": "markdown",
   "metadata": {},
   "source": [
    "Answer:"
   ]
  },
  {
   "cell_type": "code",
   "execution_count": 7,
   "metadata": {},
   "outputs": [
    {
     "data": {
      "text/html": [
       "<div>\n",
       "<style scoped>\n",
       "    .dataframe tbody tr th:only-of-type {\n",
       "        vertical-align: middle;\n",
       "    }\n",
       "\n",
       "    .dataframe tbody tr th {\n",
       "        vertical-align: top;\n",
       "    }\n",
       "\n",
       "    .dataframe thead th {\n",
       "        text-align: right;\n",
       "    }\n",
       "</style>\n",
       "<table border=\"1\" class=\"dataframe\">\n",
       "  <thead>\n",
       "    <tr style=\"text-align: right;\">\n",
       "      <th></th>\n",
       "      <th>Evidence-Based Reading and Writing</th>\n",
       "      <th>Math</th>\n",
       "      <th>Total</th>\n",
       "    </tr>\n",
       "  </thead>\n",
       "  <tbody>\n",
       "    <tr>\n",
       "      <th>count</th>\n",
       "      <td>51.000000</td>\n",
       "      <td>51.000000</td>\n",
       "      <td>51.000000</td>\n",
       "    </tr>\n",
       "    <tr>\n",
       "      <th>mean</th>\n",
       "      <td>569.117647</td>\n",
       "      <td>547.627451</td>\n",
       "      <td>1126.098039</td>\n",
       "    </tr>\n",
       "    <tr>\n",
       "      <th>std</th>\n",
       "      <td>45.666901</td>\n",
       "      <td>84.909119</td>\n",
       "      <td>92.494812</td>\n",
       "    </tr>\n",
       "    <tr>\n",
       "      <th>min</th>\n",
       "      <td>482.000000</td>\n",
       "      <td>52.000000</td>\n",
       "      <td>950.000000</td>\n",
       "    </tr>\n",
       "    <tr>\n",
       "      <th>25%</th>\n",
       "      <td>533.500000</td>\n",
       "      <td>522.000000</td>\n",
       "      <td>1055.500000</td>\n",
       "    </tr>\n",
       "    <tr>\n",
       "      <th>50%</th>\n",
       "      <td>559.000000</td>\n",
       "      <td>548.000000</td>\n",
       "      <td>1107.000000</td>\n",
       "    </tr>\n",
       "    <tr>\n",
       "      <th>75%</th>\n",
       "      <td>613.000000</td>\n",
       "      <td>599.000000</td>\n",
       "      <td>1212.000000</td>\n",
       "    </tr>\n",
       "    <tr>\n",
       "      <th>max</th>\n",
       "      <td>644.000000</td>\n",
       "      <td>651.000000</td>\n",
       "      <td>1295.000000</td>\n",
       "    </tr>\n",
       "  </tbody>\n",
       "</table>\n",
       "</div>"
      ],
      "text/plain": [
       "       Evidence-Based Reading and Writing        Math        Total\n",
       "count                           51.000000   51.000000    51.000000\n",
       "mean                           569.117647  547.627451  1126.098039\n",
       "std                             45.666901   84.909119    92.494812\n",
       "min                            482.000000   52.000000   950.000000\n",
       "25%                            533.500000  522.000000  1055.500000\n",
       "50%                            559.000000  548.000000  1107.000000\n",
       "75%                            613.000000  599.000000  1212.000000\n",
       "max                            644.000000  651.000000  1295.000000"
      ]
     },
     "execution_count": 7,
     "metadata": {},
     "output_type": "execute_result"
    }
   ],
   "source": [
    "sat_df.describe()"
   ]
  },
  {
   "cell_type": "markdown",
   "metadata": {},
   "source": [
    "#### 4c. Fix any errors you identified\n",
    "\n",
    "**The data is available** so there's no need to guess or calculate anything. If you didn't find any errors, continue to the next step."
   ]
  },
  {
   "cell_type": "markdown",
   "metadata": {},
   "source": [
    "#### 5. What are your data types? \n",
    "Display the data types of each feature. "
   ]
  },
  {
   "cell_type": "code",
   "execution_count": 9,
   "metadata": {},
   "outputs": [
    {
     "data": {
      "text/plain": [
       "State             object\n",
       "Participation     object\n",
       "English          float64\n",
       "Math             float64\n",
       "Reading          float64\n",
       "Science          float64\n",
       "Composite         object\n",
       "dtype: object"
      ]
     },
     "execution_count": 9,
     "metadata": {},
     "output_type": "execute_result"
    }
   ],
   "source": [
    "act_df.dtypes"
   ]
  },
  {
   "cell_type": "code",
   "execution_count": 10,
   "metadata": {},
   "outputs": [
    {
     "data": {
      "text/plain": [
       "State                                 object\n",
       "Participation                         object\n",
       "Evidence-Based Reading and Writing     int64\n",
       "Math                                   int64\n",
       "Total                                  int64\n",
       "dtype: object"
      ]
     },
     "execution_count": 10,
     "metadata": {},
     "output_type": "execute_result"
    }
   ],
   "source": [
    "sat_df.dtypes"
   ]
  },
  {
   "cell_type": "markdown",
   "metadata": {},
   "source": [
    "What did you learn?\n",
    "- Do any of them seem odd?  \n",
    "- Which ones are not as they should be?  "
   ]
  },
  {
   "cell_type": "markdown",
   "metadata": {},
   "source": [
    "Answer:"
   ]
  },
  {
   "cell_type": "markdown",
   "metadata": {},
   "source": [
    "#### 6. Fix Incorrect Data Types\n",
    "Based on what you discovered above, use appropriate methods to re-type incorrectly typed data.\n",
    "- Define a function that will allow you to convert participation rates to an appropriate numeric type. Use `map` or `apply` to change these columns in each dataframe."
   ]
  },
  {
   "cell_type": "code",
   "execution_count": 11,
   "metadata": {},
   "outputs": [],
   "source": [
    "#Function to convert values to numeric values\n",
    "def conv_to_numeric(df):\n",
    "     for i in df.columns[1:]:\n",
    "            df[i] = df[i].apply(lambda a : float(a))"
   ]
  },
  {
   "cell_type": "markdown",
   "metadata": {},
   "source": [
    "- Fix any individual values preventing other columns from being the appropriate type."
   ]
  },
  {
   "cell_type": "code",
   "execution_count": 12,
   "metadata": {},
   "outputs": [],
   "source": [
    "#Cleaning of the data\n",
    "act_df['State'] = act_df['State'].apply(lambda a : str(a) )\n",
    "sat_df['State'] = sat_df['State'].apply(lambda a : str(a) )\n",
    "act_df['Participation'] = act_df['Participation'].apply(lambda a : a.replace('%','') )\n",
    "sat_df['Participation'] = sat_df['Participation'].apply(lambda a : a.replace('%','') )\n",
    "act_df['Composite'] = act_df['Composite'].apply(lambda a : a.replace('x','') )"
   ]
  },
  {
   "cell_type": "code",
   "execution_count": 13,
   "metadata": {},
   "outputs": [],
   "source": [
    "#converting values to numeric values\n",
    "conv_to_numeric(act_df)\n",
    "conv_to_numeric(sat_df)"
   ]
  },
  {
   "cell_type": "markdown",
   "metadata": {},
   "source": [
    "- Finish your data modifications by making sure the columns are now typed appropriately."
   ]
  },
  {
   "cell_type": "code",
   "execution_count": 14,
   "metadata": {},
   "outputs": [
    {
     "data": {
      "text/plain": [
       "<matplotlib.axes._subplots.AxesSubplot at 0x10cd72cf8>"
      ]
     },
     "execution_count": 14,
     "metadata": {},
     "output_type": "execute_result"
    },
    {
     "data": {
      "image/png": "[encoded data removed]",
      "text/plain": [
       "<Figure size 432x288 with 1 Axes>"
      ]
     },
     "metadata": {
      "needs_background": "light"
     },
     "output_type": "display_data"
    }
   ],
   "source": [
    "#Simple plots to find outliers\n",
    "sat_df.plot()"
   ]
  },
  {
   "cell_type": "code",
   "execution_count": 111,
   "metadata": {},
   "outputs": [
    {
     "data": {
      "text/plain": [
       "<matplotlib.axes._subplots.AxesSubplot at 0x1a1df38630>"
      ]
     },
     "execution_count": 111,
     "metadata": {},
     "output_type": "execute_result"
    },
    {
     "data": {
      "image/png": "[encoded data removed]",
      "text/plain": [
       "<Figure size 432x288 with 1 Axes>"
      ]
     },
     "metadata": {
      "needs_background": "light"
     },
     "output_type": "display_data"
    }
   ],
   "source": [
    "#Simple plots to find outliers\n",
    "act_df.plot()"
   ]
  },
  {
   "cell_type": "markdown",
   "metadata": {},
   "source": [
    "- Display the data types again to confirm they are correct."
   ]
  },
  {
   "cell_type": "code",
   "execution_count": 16,
   "metadata": {},
   "outputs": [
    {
     "name": "stdout",
     "output_type": "stream",
     "text": [
      "<class 'pandas.core.frame.DataFrame'>\n",
      "RangeIndex: 52 entries, 0 to 51\n",
      "Data columns (total 7 columns):\n",
      "State            52 non-null object\n",
      "Participation    52 non-null float64\n",
      "English          52 non-null float64\n",
      "Math             52 non-null float64\n",
      "Reading          52 non-null float64\n",
      "Science          52 non-null float64\n",
      "Composite        52 non-null float64\n",
      "dtypes: float64(6), object(1)\n",
      "memory usage: 2.9+ KB\n"
     ]
    }
   ],
   "source": [
    "#Displaying datatypes\n",
    "act_df.info()"
   ]
  },
  {
   "cell_type": "code",
   "execution_count": 17,
   "metadata": {},
   "outputs": [
    {
     "name": "stdout",
     "output_type": "stream",
     "text": [
      "<class 'pandas.core.frame.DataFrame'>\n",
      "RangeIndex: 51 entries, 0 to 50\n",
      "Data columns (total 5 columns):\n",
      "State                                 51 non-null object\n",
      "Participation                         51 non-null float64\n",
      "Evidence-Based Reading and Writing    51 non-null float64\n",
      "Math                                  51 non-null float64\n",
      "Total                                 51 non-null float64\n",
      "dtypes: float64(4), object(1)\n",
      "memory usage: 2.1+ KB\n"
     ]
    }
   ],
   "source": [
    "#Displaying datatypes\n",
    "sat_df.info()"
   ]
  },
  {
   "cell_type": "markdown",
   "metadata": {},
   "source": [
    "#### 7. Rename Columns\n",
    "Change the names of the columns to more expressive names so that you can tell the difference the SAT columns and the ACT columns. Your solution should map all column names being changed at once (no repeated singular name-changes). **We will be combining these data with some of the data from 2018, and so you should name columns in an appropriate way**.\n",
    "\n",
    "**Guidelines**:\n",
    "- Column names should be all lowercase (you will thank yourself when you start pushing data to SQL later in the course)\n",
    "- Column names should not contain spaces (underscores will suffice--this allows for using the `df.column_name` method to access columns in addition to `df['column_name']`.\n",
    "- Column names should be unique and informative (the only feature that we actually share between dataframes is the state)."
   ]
  },
  {
   "cell_type": "code",
   "execution_count": 18,
   "metadata": {},
   "outputs": [
    {
     "data": {
      "text/html": [
       "<div>\n",
       "<style scoped>\n",
       "    .dataframe tbody tr th:only-of-type {\n",
       "        vertical-align: middle;\n",
       "    }\n",
       "\n",
       "    .dataframe tbody tr th {\n",
       "        vertical-align: top;\n",
       "    }\n",
       "\n",
       "    .dataframe thead th {\n",
       "        text-align: right;\n",
       "    }\n",
       "</style>\n",
       "<table border=\"1\" class=\"dataframe\">\n",
       "  <thead>\n",
       "    <tr style=\"text-align: right;\">\n",
       "      <th></th>\n",
       "      <th>state</th>\n",
       "      <th>sat_participation</th>\n",
       "      <th>sat_ebrw</th>\n",
       "      <th>sat_math</th>\n",
       "      <th>sat_total</th>\n",
       "    </tr>\n",
       "  </thead>\n",
       "  <tbody>\n",
       "    <tr>\n",
       "      <th>0</th>\n",
       "      <td>Alabama</td>\n",
       "      <td>5.0</td>\n",
       "      <td>593.0</td>\n",
       "      <td>572.0</td>\n",
       "      <td>1165.0</td>\n",
       "    </tr>\n",
       "    <tr>\n",
       "      <th>1</th>\n",
       "      <td>Alaska</td>\n",
       "      <td>38.0</td>\n",
       "      <td>547.0</td>\n",
       "      <td>533.0</td>\n",
       "      <td>1080.0</td>\n",
       "    </tr>\n",
       "    <tr>\n",
       "      <th>2</th>\n",
       "      <td>Arizona</td>\n",
       "      <td>30.0</td>\n",
       "      <td>563.0</td>\n",
       "      <td>553.0</td>\n",
       "      <td>1116.0</td>\n",
       "    </tr>\n",
       "    <tr>\n",
       "      <th>3</th>\n",
       "      <td>Arkansas</td>\n",
       "      <td>3.0</td>\n",
       "      <td>614.0</td>\n",
       "      <td>594.0</td>\n",
       "      <td>1208.0</td>\n",
       "    </tr>\n",
       "    <tr>\n",
       "      <th>4</th>\n",
       "      <td>California</td>\n",
       "      <td>53.0</td>\n",
       "      <td>531.0</td>\n",
       "      <td>524.0</td>\n",
       "      <td>1055.0</td>\n",
       "    </tr>\n",
       "  </tbody>\n",
       "</table>\n",
       "</div>"
      ],
      "text/plain": [
       "        state  sat_participation  sat_ebrw  sat_math  sat_total\n",
       "0     Alabama                5.0     593.0     572.0     1165.0\n",
       "1      Alaska               38.0     547.0     533.0     1080.0\n",
       "2     Arizona               30.0     563.0     553.0     1116.0\n",
       "3    Arkansas                3.0     614.0     594.0     1208.0\n",
       "4  California               53.0     531.0     524.0     1055.0"
      ]
     },
     "execution_count": 18,
     "metadata": {},
     "output_type": "execute_result"
    }
   ],
   "source": [
    "#Renaming the columns for sat dataframe\n",
    "sat_columns = ['state', 'sat_participation', 'sat_ebrw', 'sat_math', 'sat_total']\n",
    "sat_df.columns = sat_columns\n",
    "sat_df.head()"
   ]
  },
  {
   "cell_type": "code",
   "execution_count": 19,
   "metadata": {},
   "outputs": [
    {
     "data": {
      "text/html": [
       "<div>\n",
       "<style scoped>\n",
       "    .dataframe tbody tr th:only-of-type {\n",
       "        vertical-align: middle;\n",
       "    }\n",
       "\n",
       "    .dataframe tbody tr th {\n",
       "        vertical-align: top;\n",
       "    }\n",
       "\n",
       "    .dataframe thead th {\n",
       "        text-align: right;\n",
       "    }\n",
       "</style>\n",
       "<table border=\"1\" class=\"dataframe\">\n",
       "  <thead>\n",
       "    <tr style=\"text-align: right;\">\n",
       "      <th></th>\n",
       "      <th>state</th>\n",
       "      <th>act_participation</th>\n",
       "      <th>act_english</th>\n",
       "      <th>act_math</th>\n",
       "      <th>act_reading</th>\n",
       "      <th>act_science</th>\n",
       "      <th>act_composite</th>\n",
       "    </tr>\n",
       "  </thead>\n",
       "  <tbody>\n",
       "    <tr>\n",
       "      <th>0</th>\n",
       "      <td>National</td>\n",
       "      <td>60.0</td>\n",
       "      <td>20.3</td>\n",
       "      <td>20.7</td>\n",
       "      <td>21.4</td>\n",
       "      <td>21.0</td>\n",
       "      <td>21.0</td>\n",
       "    </tr>\n",
       "    <tr>\n",
       "      <th>1</th>\n",
       "      <td>Alabama</td>\n",
       "      <td>100.0</td>\n",
       "      <td>18.9</td>\n",
       "      <td>18.4</td>\n",
       "      <td>19.7</td>\n",
       "      <td>19.4</td>\n",
       "      <td>19.2</td>\n",
       "    </tr>\n",
       "    <tr>\n",
       "      <th>2</th>\n",
       "      <td>Alaska</td>\n",
       "      <td>65.0</td>\n",
       "      <td>18.7</td>\n",
       "      <td>19.8</td>\n",
       "      <td>20.4</td>\n",
       "      <td>19.9</td>\n",
       "      <td>19.8</td>\n",
       "    </tr>\n",
       "    <tr>\n",
       "      <th>3</th>\n",
       "      <td>Arizona</td>\n",
       "      <td>62.0</td>\n",
       "      <td>18.6</td>\n",
       "      <td>19.8</td>\n",
       "      <td>20.1</td>\n",
       "      <td>19.8</td>\n",
       "      <td>19.7</td>\n",
       "    </tr>\n",
       "    <tr>\n",
       "      <th>4</th>\n",
       "      <td>Arkansas</td>\n",
       "      <td>100.0</td>\n",
       "      <td>18.9</td>\n",
       "      <td>19.0</td>\n",
       "      <td>19.7</td>\n",
       "      <td>19.5</td>\n",
       "      <td>19.4</td>\n",
       "    </tr>\n",
       "  </tbody>\n",
       "</table>\n",
       "</div>"
      ],
      "text/plain": [
       "      state  act_participation  act_english  act_math  act_reading  \\\n",
       "0  National               60.0         20.3      20.7         21.4   \n",
       "1   Alabama              100.0         18.9      18.4         19.7   \n",
       "2    Alaska               65.0         18.7      19.8         20.4   \n",
       "3   Arizona               62.0         18.6      19.8         20.1   \n",
       "4  Arkansas              100.0         18.9      19.0         19.7   \n",
       "\n",
       "   act_science  act_composite  \n",
       "0         21.0           21.0  \n",
       "1         19.4           19.2  \n",
       "2         19.9           19.8  \n",
       "3         19.8           19.7  \n",
       "4         19.5           19.4  "
      ]
     },
     "execution_count": 19,
     "metadata": {},
     "output_type": "execute_result"
    }
   ],
   "source": [
    "#Renaming the columns for act dataframe\n",
    "act_columns = ['state', 'act_participation', 'act_english', 'act_math', 'act_reading', 'act_science',\n",
    "       'act_composite']\n",
    "act_df.columns = act_columns\n",
    "act_df.head()"
   ]
  },
  {
   "cell_type": "markdown",
   "metadata": {},
   "source": [
    "#### 8. Create a data dictionary\n",
    "\n",
    "Now that we've fixed our data, and given it appropriate names, let's create a [data dictionary](http://library.ucmerced.edu/node/10249). \n",
    "\n",
    "A data dictionary provides a quick overview of features/variables/columns, alongside data types and descriptions. The more descriptive you can be, the more useful this document is.\n",
    "\n",
    "Example of a Fictional Data Dictionary Entry: \n",
    "\n",
    "|Feature|Type|Dataset|Description|\n",
    "|---|---|---|---|\n",
    "|**county_pop**|*integer*|2010 census|The population of the county (units in thousands, where 2.5 represents 2500 people).| \n",
    "|**per_poverty**|*float*|2010 census|The percent of the county over the age of 18 living below the 200% of official US poverty rate (units percent to two decimal places 98.10 means 98.1%)|\n",
    "\n",
    "[Here's a quick link to a short guide for formatting markdown in Jupyter notebooks](https://jupyter-notebook.readthedocs.io/en/stable/examples/Notebook/Working%20With%20Markdown%20Cells.html).\n",
    "\n",
    "Provided is the skeleton for formatting a markdown table, with columns headers that will help you create a data dictionary to quickly summarize your data, as well as some examples. **This would be a great thing to copy and paste into your custom README for this project.**"
   ]
  },
  {
   "cell_type": "markdown",
   "metadata": {},
   "source": [
    "|Feature|Type|Dataset|Description|\n",
    "|---|---|---|---|\n",
    "|**sat_state**|*object*|sat_df|Name of the state where the SAT was reported from| \n",
    "|**sat_participation**|*float*|sat_df|Percentage participation in the exam from the sate|\n",
    "|**sat_ebr**|*float*|sat_df|Evidence-Based Reading and Writing|\n",
    "|**sat_math**|*float*|sat_df|Average Math score in the SAT|\n",
    "|**sat_total**|*float*|sat_df|Average Total score in the SAT|\n",
    "|**act_state**|*object*|act_df|Name of the state where the ACT was reported from| \n",
    "|**act_participation**|*float*|act_df|Percentage participation in the exam from the sate|\n",
    "|**act_english**|*float*|act_df|Average English score in the ACT|\n",
    "|**act_math**|*float*|act_df|Average Math score in the ACT|\n",
    "|**act_reading**|*float*|act_df|Average reading score in the ACT|\n",
    "|**act_science**|*float*|act_df|Average science score in the ACT|\n",
    "|**act_composite**|*float*|act_df|Average composite score in the ACT|"
   ]
  },
  {
   "cell_type": "markdown",
   "metadata": {},
   "source": [
    "#### 9. Drop unnecessary rows\n",
    "\n",
    "One of our dataframes contains an extra row. Identify and remove this from the dataframe."
   ]
  },
  {
   "cell_type": "code",
   "execution_count": 113,
   "metadata": {},
   "outputs": [
    {
     "name": "stdout",
     "output_type": "stream",
     "text": [
      "The datframe act_df contains 51 rows\n",
      "The datframe sat_df contains 51 rows\n"
     ]
    }
   ],
   "source": [
    "#Finding additional data\n",
    "print (f'The datframe act_df contains {len(act_df)} rows')\n",
    "print (f'The datframe sat_df contains {len(sat_df)} rows')\n",
    "\n",
    "for i in act_df['state'].values:\n",
    "    if i not in sat_df['state'].values:\n",
    "        print (f'{i} is the state which is extra in the act dataframe')\n",
    "\n"
   ]
  },
  {
   "cell_type": "code",
   "execution_count": 112,
   "metadata": {},
   "outputs": [
    {
     "data": {
      "text/html": [
       "<div>\n",
       "<style scoped>\n",
       "    .dataframe tbody tr th:only-of-type {\n",
       "        vertical-align: middle;\n",
       "    }\n",
       "\n",
       "    .dataframe tbody tr th {\n",
       "        vertical-align: top;\n",
       "    }\n",
       "\n",
       "    .dataframe thead th {\n",
       "        text-align: right;\n",
       "    }\n",
       "</style>\n",
       "<table border=\"1\" class=\"dataframe\">\n",
       "  <thead>\n",
       "    <tr style=\"text-align: right;\">\n",
       "      <th></th>\n",
       "      <th>state</th>\n",
       "      <th>act_participation</th>\n",
       "      <th>act_english</th>\n",
       "      <th>act_math</th>\n",
       "      <th>act_reading</th>\n",
       "      <th>act_science</th>\n",
       "      <th>act_composite</th>\n",
       "    </tr>\n",
       "  </thead>\n",
       "  <tbody>\n",
       "    <tr>\n",
       "      <th>1</th>\n",
       "      <td>Alabama</td>\n",
       "      <td>100.0</td>\n",
       "      <td>18.9</td>\n",
       "      <td>18.4</td>\n",
       "      <td>19.7</td>\n",
       "      <td>19.4</td>\n",
       "      <td>19.2</td>\n",
       "    </tr>\n",
       "    <tr>\n",
       "      <th>2</th>\n",
       "      <td>Alaska</td>\n",
       "      <td>65.0</td>\n",
       "      <td>18.7</td>\n",
       "      <td>19.8</td>\n",
       "      <td>20.4</td>\n",
       "      <td>19.9</td>\n",
       "      <td>19.8</td>\n",
       "    </tr>\n",
       "    <tr>\n",
       "      <th>3</th>\n",
       "      <td>Arizona</td>\n",
       "      <td>62.0</td>\n",
       "      <td>18.6</td>\n",
       "      <td>19.8</td>\n",
       "      <td>20.1</td>\n",
       "      <td>19.8</td>\n",
       "      <td>19.7</td>\n",
       "    </tr>\n",
       "    <tr>\n",
       "      <th>4</th>\n",
       "      <td>Arkansas</td>\n",
       "      <td>100.0</td>\n",
       "      <td>18.9</td>\n",
       "      <td>19.0</td>\n",
       "      <td>19.7</td>\n",
       "      <td>19.5</td>\n",
       "      <td>19.4</td>\n",
       "    </tr>\n",
       "    <tr>\n",
       "      <th>5</th>\n",
       "      <td>California</td>\n",
       "      <td>31.0</td>\n",
       "      <td>22.5</td>\n",
       "      <td>22.7</td>\n",
       "      <td>23.1</td>\n",
       "      <td>22.2</td>\n",
       "      <td>22.8</td>\n",
       "    </tr>\n",
       "  </tbody>\n",
       "</table>\n",
       "</div>"
      ],
      "text/plain": [
       "        state  act_participation  act_english  act_math  act_reading  \\\n",
       "1     Alabama              100.0         18.9      18.4         19.7   \n",
       "2      Alaska               65.0         18.7      19.8         20.4   \n",
       "3     Arizona               62.0         18.6      19.8         20.1   \n",
       "4    Arkansas              100.0         18.9      19.0         19.7   \n",
       "5  California               31.0         22.5      22.7         23.1   \n",
       "\n",
       "   act_science  act_composite  \n",
       "1         19.4           19.2  \n",
       "2         19.9           19.8  \n",
       "3         19.8           19.7  \n",
       "4         19.5           19.4  \n",
       "5         22.2           22.8  "
      ]
     },
     "execution_count": 112,
     "metadata": {},
     "output_type": "execute_result"
    }
   ],
   "source": [
    "#dropping the row containing National as the state\n",
    "act_df = act_df[act_df['state'] != 'National']\n",
    "act_df.head()"
   ]
  },
  {
   "cell_type": "markdown",
   "metadata": {},
   "source": [
    "#### 10. Merge Dataframes\n",
    "\n",
    "Join the 2017 ACT and SAT dataframes using the state in each dataframe as the key. Assign this to a new variable."
   ]
  },
  {
   "cell_type": "code",
   "execution_count": 22,
   "metadata": {},
   "outputs": [],
   "source": [
    "#Joining the dataframe to a single one\n",
    "final_df = pd.merge(act_df,sat_df, on ='state')"
   ]
  },
  {
   "cell_type": "code",
   "execution_count": 23,
   "metadata": {},
   "outputs": [
    {
     "data": {
      "text/html": [
       "<div>\n",
       "<style scoped>\n",
       "    .dataframe tbody tr th:only-of-type {\n",
       "        vertical-align: middle;\n",
       "    }\n",
       "\n",
       "    .dataframe tbody tr th {\n",
       "        vertical-align: top;\n",
       "    }\n",
       "\n",
       "    .dataframe thead th {\n",
       "        text-align: right;\n",
       "    }\n",
       "</style>\n",
       "<table border=\"1\" class=\"dataframe\">\n",
       "  <thead>\n",
       "    <tr style=\"text-align: right;\">\n",
       "      <th></th>\n",
       "      <th>state</th>\n",
       "      <th>act_participation</th>\n",
       "      <th>act_english</th>\n",
       "      <th>act_math</th>\n",
       "      <th>act_reading</th>\n",
       "      <th>act_science</th>\n",
       "      <th>act_composite</th>\n",
       "      <th>sat_participation</th>\n",
       "      <th>sat_ebrw</th>\n",
       "      <th>sat_math</th>\n",
       "      <th>sat_total</th>\n",
       "    </tr>\n",
       "  </thead>\n",
       "  <tbody>\n",
       "    <tr>\n",
       "      <th>0</th>\n",
       "      <td>Alabama</td>\n",
       "      <td>100.0</td>\n",
       "      <td>18.9</td>\n",
       "      <td>18.4</td>\n",
       "      <td>19.7</td>\n",
       "      <td>19.4</td>\n",
       "      <td>19.2</td>\n",
       "      <td>5.0</td>\n",
       "      <td>593.0</td>\n",
       "      <td>572.0</td>\n",
       "      <td>1165.0</td>\n",
       "    </tr>\n",
       "    <tr>\n",
       "      <th>1</th>\n",
       "      <td>Alaska</td>\n",
       "      <td>65.0</td>\n",
       "      <td>18.7</td>\n",
       "      <td>19.8</td>\n",
       "      <td>20.4</td>\n",
       "      <td>19.9</td>\n",
       "      <td>19.8</td>\n",
       "      <td>38.0</td>\n",
       "      <td>547.0</td>\n",
       "      <td>533.0</td>\n",
       "      <td>1080.0</td>\n",
       "    </tr>\n",
       "    <tr>\n",
       "      <th>2</th>\n",
       "      <td>Arizona</td>\n",
       "      <td>62.0</td>\n",
       "      <td>18.6</td>\n",
       "      <td>19.8</td>\n",
       "      <td>20.1</td>\n",
       "      <td>19.8</td>\n",
       "      <td>19.7</td>\n",
       "      <td>30.0</td>\n",
       "      <td>563.0</td>\n",
       "      <td>553.0</td>\n",
       "      <td>1116.0</td>\n",
       "    </tr>\n",
       "    <tr>\n",
       "      <th>3</th>\n",
       "      <td>Arkansas</td>\n",
       "      <td>100.0</td>\n",
       "      <td>18.9</td>\n",
       "      <td>19.0</td>\n",
       "      <td>19.7</td>\n",
       "      <td>19.5</td>\n",
       "      <td>19.4</td>\n",
       "      <td>3.0</td>\n",
       "      <td>614.0</td>\n",
       "      <td>594.0</td>\n",
       "      <td>1208.0</td>\n",
       "    </tr>\n",
       "    <tr>\n",
       "      <th>4</th>\n",
       "      <td>California</td>\n",
       "      <td>31.0</td>\n",
       "      <td>22.5</td>\n",
       "      <td>22.7</td>\n",
       "      <td>23.1</td>\n",
       "      <td>22.2</td>\n",
       "      <td>22.8</td>\n",
       "      <td>53.0</td>\n",
       "      <td>531.0</td>\n",
       "      <td>524.0</td>\n",
       "      <td>1055.0</td>\n",
       "    </tr>\n",
       "  </tbody>\n",
       "</table>\n",
       "</div>"
      ],
      "text/plain": [
       "        state  act_participation  act_english  act_math  act_reading  \\\n",
       "0     Alabama              100.0         18.9      18.4         19.7   \n",
       "1      Alaska               65.0         18.7      19.8         20.4   \n",
       "2     Arizona               62.0         18.6      19.8         20.1   \n",
       "3    Arkansas              100.0         18.9      19.0         19.7   \n",
       "4  California               31.0         22.5      22.7         23.1   \n",
       "\n",
       "   act_science  act_composite  sat_participation  sat_ebrw  sat_math  \\\n",
       "0         19.4           19.2                5.0     593.0     572.0   \n",
       "1         19.9           19.8               38.0     547.0     533.0   \n",
       "2         19.8           19.7               30.0     563.0     553.0   \n",
       "3         19.5           19.4                3.0     614.0     594.0   \n",
       "4         22.2           22.8               53.0     531.0     524.0   \n",
       "\n",
       "   sat_total  \n",
       "0     1165.0  \n",
       "1     1080.0  \n",
       "2     1116.0  \n",
       "3     1208.0  \n",
       "4     1055.0  "
      ]
     },
     "execution_count": 23,
     "metadata": {},
     "output_type": "execute_result"
    }
   ],
   "source": [
    "#Displaying the newly created dataframe\n",
    "final_df.head()"
   ]
  },
  {
   "cell_type": "markdown",
   "metadata": {},
   "source": [
    "#### 11. Save your cleaned, merged dataframe\n",
    "\n",
    "Use a relative path to save out your data as `combined_2017.csv`."
   ]
  },
  {
   "cell_type": "code",
   "execution_count": 24,
   "metadata": {},
   "outputs": [],
   "source": [
    "#Exporting the dataframe to csv file\n",
    "final_df.to_csv('combined_2017.csv')"
   ]
  },
  {
   "cell_type": "markdown",
   "metadata": {},
   "source": [
    "## 2018 Data Import and Cleaning"
   ]
  },
  {
   "cell_type": "markdown",
   "metadata": {},
   "source": [
    "Links to the 2018 ACT and SAT data are provided in the README. These data live in PDFs, and so you'll get to enjoy practicing some *manual* data collection. Save these data as a CSV in your `data` directory, and import, explore, and clean these data in the same way you did above. **Make sure you comment on your steps so it is clear *why* you are doing each process**."
   ]
  },
  {
   "cell_type": "code",
   "execution_count": 25,
   "metadata": {},
   "outputs": [],
   "source": [
    "#Importing data for 2018\n",
    "act_2018 = pd.read_csv('/Users/antonypaulson/Desktop/Git_mine/project_1/data/ACT_2018.csv')\n",
    "sat_2018 = pd.read_csv('/Users/antonypaulson/Desktop/Git_mine/project_1/data/SAT_2018.csv')"
   ]
  },
  {
   "cell_type": "code",
   "execution_count": 26,
   "metadata": {},
   "outputs": [
    {
     "data": {
      "text/html": [
       "<div>\n",
       "<style scoped>\n",
       "    .dataframe tbody tr th:only-of-type {\n",
       "        vertical-align: middle;\n",
       "    }\n",
       "\n",
       "    .dataframe tbody tr th {\n",
       "        vertical-align: top;\n",
       "    }\n",
       "\n",
       "    .dataframe thead th {\n",
       "        text-align: right;\n",
       "    }\n",
       "</style>\n",
       "<table border=\"1\" class=\"dataframe\">\n",
       "  <thead>\n",
       "    <tr style=\"text-align: right;\">\n",
       "      <th></th>\n",
       "      <th>State</th>\n",
       "      <th>Participation</th>\n",
       "      <th>Composite</th>\n",
       "    </tr>\n",
       "  </thead>\n",
       "  <tbody>\n",
       "    <tr>\n",
       "      <th>0</th>\n",
       "      <td>Alabama</td>\n",
       "      <td>100</td>\n",
       "      <td>19.1</td>\n",
       "    </tr>\n",
       "    <tr>\n",
       "      <th>1</th>\n",
       "      <td>Arkansas</td>\n",
       "      <td>100</td>\n",
       "      <td>19.4</td>\n",
       "    </tr>\n",
       "    <tr>\n",
       "      <th>2</th>\n",
       "      <td>Kentucky</td>\n",
       "      <td>100</td>\n",
       "      <td>20.2</td>\n",
       "    </tr>\n",
       "    <tr>\n",
       "      <th>3</th>\n",
       "      <td>Louisiana</td>\n",
       "      <td>100</td>\n",
       "      <td>19.2</td>\n",
       "    </tr>\n",
       "    <tr>\n",
       "      <th>4</th>\n",
       "      <td>Mississippi</td>\n",
       "      <td>100</td>\n",
       "      <td>18.6</td>\n",
       "    </tr>\n",
       "  </tbody>\n",
       "</table>\n",
       "</div>"
      ],
      "text/plain": [
       "         State   Participation   Composite\n",
       "0      Alabama             100        19.1\n",
       "1     Arkansas             100        19.4\n",
       "2     Kentucky             100        20.2\n",
       "3    Louisiana             100        19.2\n",
       "4  Mississippi             100        18.6"
      ]
     },
     "execution_count": 26,
     "metadata": {},
     "output_type": "execute_result"
    }
   ],
   "source": [
    "act_2018.head()"
   ]
  },
  {
   "cell_type": "markdown",
   "metadata": {},
   "source": [
    "#### Combine your 2017 and 2018 data into a single dataframe\n",
    "Joining on state names should work, assuming you formatted all your state names identically. Make sure none of your columns (other than state) have identical names. Do yourself a favor and decide if you're encoding participation rates as floats or integers and standardize this across your datasets.\n",
    "\n",
    "Save the contents of this merged dataframe as `final.csv`.\n",
    "\n",
    "**Use this combined dataframe for the remainder of the project**."
   ]
  },
  {
   "cell_type": "code",
   "execution_count": 27,
   "metadata": {},
   "outputs": [],
   "source": [
    "#Combining 2018 data\n",
    "df_2018 = pd.merge(act_2018,sat_2018, on= 'State')\n",
    "df_2018.columns = ['state', 'act_participation_2018', 'act_composite_2018', 'sat_participation_2018', 'sat_total_2018']"
   ]
  },
  {
   "cell_type": "code",
   "execution_count": 28,
   "metadata": {},
   "outputs": [
    {
     "data": {
      "text/html": [
       "<div>\n",
       "<style scoped>\n",
       "    .dataframe tbody tr th:only-of-type {\n",
       "        vertical-align: middle;\n",
       "    }\n",
       "\n",
       "    .dataframe tbody tr th {\n",
       "        vertical-align: top;\n",
       "    }\n",
       "\n",
       "    .dataframe thead th {\n",
       "        text-align: right;\n",
       "    }\n",
       "</style>\n",
       "<table border=\"1\" class=\"dataframe\">\n",
       "  <thead>\n",
       "    <tr style=\"text-align: right;\">\n",
       "      <th></th>\n",
       "      <th>state</th>\n",
       "      <th>act_participation</th>\n",
       "      <th>act_english</th>\n",
       "      <th>act_math</th>\n",
       "      <th>act_reading</th>\n",
       "      <th>act_science</th>\n",
       "      <th>act_composite</th>\n",
       "      <th>sat_participation</th>\n",
       "      <th>sat_ebrw</th>\n",
       "      <th>sat_math</th>\n",
       "      <th>sat_total</th>\n",
       "      <th>act_participation_2018</th>\n",
       "      <th>act_composite_2018</th>\n",
       "      <th>sat_participation_2018</th>\n",
       "      <th>sat_total_2018</th>\n",
       "    </tr>\n",
       "  </thead>\n",
       "  <tbody>\n",
       "    <tr>\n",
       "      <th>0</th>\n",
       "      <td>Alabama</td>\n",
       "      <td>100.0</td>\n",
       "      <td>18.9</td>\n",
       "      <td>18.4</td>\n",
       "      <td>19.7</td>\n",
       "      <td>19.4</td>\n",
       "      <td>19.2</td>\n",
       "      <td>5.0</td>\n",
       "      <td>593.0</td>\n",
       "      <td>572.0</td>\n",
       "      <td>1165.0</td>\n",
       "      <td>100</td>\n",
       "      <td>19.1</td>\n",
       "      <td>6</td>\n",
       "      <td>1166</td>\n",
       "    </tr>\n",
       "    <tr>\n",
       "      <th>1</th>\n",
       "      <td>Alaska</td>\n",
       "      <td>65.0</td>\n",
       "      <td>18.7</td>\n",
       "      <td>19.8</td>\n",
       "      <td>20.4</td>\n",
       "      <td>19.9</td>\n",
       "      <td>19.8</td>\n",
       "      <td>38.0</td>\n",
       "      <td>547.0</td>\n",
       "      <td>533.0</td>\n",
       "      <td>1080.0</td>\n",
       "      <td>33</td>\n",
       "      <td>20.8</td>\n",
       "      <td>43</td>\n",
       "      <td>1106</td>\n",
       "    </tr>\n",
       "    <tr>\n",
       "      <th>2</th>\n",
       "      <td>Arizona</td>\n",
       "      <td>62.0</td>\n",
       "      <td>18.6</td>\n",
       "      <td>19.8</td>\n",
       "      <td>20.1</td>\n",
       "      <td>19.8</td>\n",
       "      <td>19.7</td>\n",
       "      <td>30.0</td>\n",
       "      <td>563.0</td>\n",
       "      <td>553.0</td>\n",
       "      <td>1116.0</td>\n",
       "      <td>66</td>\n",
       "      <td>19.2</td>\n",
       "      <td>29</td>\n",
       "      <td>1149</td>\n",
       "    </tr>\n",
       "    <tr>\n",
       "      <th>3</th>\n",
       "      <td>Arkansas</td>\n",
       "      <td>100.0</td>\n",
       "      <td>18.9</td>\n",
       "      <td>19.0</td>\n",
       "      <td>19.7</td>\n",
       "      <td>19.5</td>\n",
       "      <td>19.4</td>\n",
       "      <td>3.0</td>\n",
       "      <td>614.0</td>\n",
       "      <td>594.0</td>\n",
       "      <td>1208.0</td>\n",
       "      <td>100</td>\n",
       "      <td>19.4</td>\n",
       "      <td>5</td>\n",
       "      <td>1169</td>\n",
       "    </tr>\n",
       "    <tr>\n",
       "      <th>4</th>\n",
       "      <td>California</td>\n",
       "      <td>31.0</td>\n",
       "      <td>22.5</td>\n",
       "      <td>22.7</td>\n",
       "      <td>23.1</td>\n",
       "      <td>22.2</td>\n",
       "      <td>22.8</td>\n",
       "      <td>53.0</td>\n",
       "      <td>531.0</td>\n",
       "      <td>524.0</td>\n",
       "      <td>1055.0</td>\n",
       "      <td>27</td>\n",
       "      <td>22.7</td>\n",
       "      <td>60</td>\n",
       "      <td>1076</td>\n",
       "    </tr>\n",
       "  </tbody>\n",
       "</table>\n",
       "</div>"
      ],
      "text/plain": [
       "        state  act_participation  act_english  act_math  act_reading  \\\n",
       "0     Alabama              100.0         18.9      18.4         19.7   \n",
       "1      Alaska               65.0         18.7      19.8         20.4   \n",
       "2     Arizona               62.0         18.6      19.8         20.1   \n",
       "3    Arkansas              100.0         18.9      19.0         19.7   \n",
       "4  California               31.0         22.5      22.7         23.1   \n",
       "\n",
       "   act_science  act_composite  sat_participation  sat_ebrw  sat_math  \\\n",
       "0         19.4           19.2                5.0     593.0     572.0   \n",
       "1         19.9           19.8               38.0     547.0     533.0   \n",
       "2         19.8           19.7               30.0     563.0     553.0   \n",
       "3         19.5           19.4                3.0     614.0     594.0   \n",
       "4         22.2           22.8               53.0     531.0     524.0   \n",
       "\n",
       "   sat_total  act_participation_2018  act_composite_2018  \\\n",
       "0     1165.0                     100                19.1   \n",
       "1     1080.0                      33                20.8   \n",
       "2     1116.0                      66                19.2   \n",
       "3     1208.0                     100                19.4   \n",
       "4     1055.0                      27                22.7   \n",
       "\n",
       "   sat_participation_2018  sat_total_2018  \n",
       "0                       6            1166  \n",
       "1                      43            1106  \n",
       "2                      29            1149  \n",
       "3                       5            1169  \n",
       "4                      60            1076  "
      ]
     },
     "execution_count": 28,
     "metadata": {},
     "output_type": "execute_result"
    }
   ],
   "source": [
    "#Combining all data\n",
    "final_df1 = pd.merge(final_df, df_2018, on = 'state')\n",
    "final_df1.head()"
   ]
  },
  {
   "cell_type": "code",
   "execution_count": 29,
   "metadata": {},
   "outputs": [],
   "source": [
    "#Exporting to excel \n",
    "final_df1.to_csv('final.csv')"
   ]
  },
  {
   "cell_type": "markdown",
   "metadata": {},
   "source": [
    "## Exploratory Data Analysis\n",
    "\n",
    "\n",
    "### Summary Statistics\n",
    "Transpose the output of pandas `describe` method to create a quick overview of each numeric feature."
   ]
  },
  {
   "cell_type": "code",
   "execution_count": 30,
   "metadata": {},
   "outputs": [
    {
     "data": {
      "text/html": [
       "<div>\n",
       "<style scoped>\n",
       "    .dataframe tbody tr th:only-of-type {\n",
       "        vertical-align: middle;\n",
       "    }\n",
       "\n",
       "    .dataframe tbody tr th {\n",
       "        vertical-align: top;\n",
       "    }\n",
       "\n",
       "    .dataframe thead th {\n",
       "        text-align: right;\n",
       "    }\n",
       "</style>\n",
       "<table border=\"1\" class=\"dataframe\">\n",
       "  <thead>\n",
       "    <tr style=\"text-align: right;\">\n",
       "      <th></th>\n",
       "      <th>count</th>\n",
       "      <th>mean</th>\n",
       "      <th>std</th>\n",
       "      <th>min</th>\n",
       "      <th>25%</th>\n",
       "      <th>50%</th>\n",
       "      <th>75%</th>\n",
       "      <th>max</th>\n",
       "    </tr>\n",
       "  </thead>\n",
       "  <tbody>\n",
       "    <tr>\n",
       "      <th>act_participation</th>\n",
       "      <td>50.0</td>\n",
       "      <td>64.560</td>\n",
       "      <td>32.077814</td>\n",
       "      <td>8.0</td>\n",
       "      <td>31.000</td>\n",
       "      <td>68.00</td>\n",
       "      <td>100.000</td>\n",
       "      <td>100.0</td>\n",
       "    </tr>\n",
       "    <tr>\n",
       "      <th>act_english</th>\n",
       "      <td>50.0</td>\n",
       "      <td>20.980</td>\n",
       "      <td>2.351552</td>\n",
       "      <td>16.3</td>\n",
       "      <td>19.100</td>\n",
       "      <td>20.80</td>\n",
       "      <td>23.300</td>\n",
       "      <td>25.5</td>\n",
       "    </tr>\n",
       "    <tr>\n",
       "      <th>act_math</th>\n",
       "      <td>50.0</td>\n",
       "      <td>21.230</td>\n",
       "      <td>1.972386</td>\n",
       "      <td>18.0</td>\n",
       "      <td>19.500</td>\n",
       "      <td>21.05</td>\n",
       "      <td>23.100</td>\n",
       "      <td>25.3</td>\n",
       "    </tr>\n",
       "    <tr>\n",
       "      <th>act_reading</th>\n",
       "      <td>50.0</td>\n",
       "      <td>22.052</td>\n",
       "      <td>2.069925</td>\n",
       "      <td>18.1</td>\n",
       "      <td>20.500</td>\n",
       "      <td>21.85</td>\n",
       "      <td>24.175</td>\n",
       "      <td>26.0</td>\n",
       "    </tr>\n",
       "    <tr>\n",
       "      <th>act_science</th>\n",
       "      <td>50.0</td>\n",
       "      <td>21.070</td>\n",
       "      <td>3.208042</td>\n",
       "      <td>2.3</td>\n",
       "      <td>19.925</td>\n",
       "      <td>21.30</td>\n",
       "      <td>22.975</td>\n",
       "      <td>24.9</td>\n",
       "    </tr>\n",
       "    <tr>\n",
       "      <th>act_composite</th>\n",
       "      <td>50.0</td>\n",
       "      <td>21.562</td>\n",
       "      <td>2.018172</td>\n",
       "      <td>17.8</td>\n",
       "      <td>19.850</td>\n",
       "      <td>21.40</td>\n",
       "      <td>23.600</td>\n",
       "      <td>25.5</td>\n",
       "    </tr>\n",
       "    <tr>\n",
       "      <th>sat_participation</th>\n",
       "      <td>50.0</td>\n",
       "      <td>40.460</td>\n",
       "      <td>35.319076</td>\n",
       "      <td>2.0</td>\n",
       "      <td>4.000</td>\n",
       "      <td>40.50</td>\n",
       "      <td>66.500</td>\n",
       "      <td>100.0</td>\n",
       "    </tr>\n",
       "    <tr>\n",
       "      <th>sat_ebrw</th>\n",
       "      <td>50.0</td>\n",
       "      <td>569.900</td>\n",
       "      <td>45.783987</td>\n",
       "      <td>482.0</td>\n",
       "      <td>535.250</td>\n",
       "      <td>559.50</td>\n",
       "      <td>613.500</td>\n",
       "      <td>644.0</td>\n",
       "    </tr>\n",
       "    <tr>\n",
       "      <th>sat_math</th>\n",
       "      <td>50.0</td>\n",
       "      <td>548.240</td>\n",
       "      <td>85.657257</td>\n",
       "      <td>52.0</td>\n",
       "      <td>523.250</td>\n",
       "      <td>549.50</td>\n",
       "      <td>601.000</td>\n",
       "      <td>651.0</td>\n",
       "    </tr>\n",
       "    <tr>\n",
       "      <th>sat_total</th>\n",
       "      <td>50.0</td>\n",
       "      <td>1127.680</td>\n",
       "      <td>92.734301</td>\n",
       "      <td>950.0</td>\n",
       "      <td>1057.000</td>\n",
       "      <td>1107.50</td>\n",
       "      <td>1214.000</td>\n",
       "      <td>1295.0</td>\n",
       "    </tr>\n",
       "    <tr>\n",
       "      <th>act_participation_2018</th>\n",
       "      <td>50.0</td>\n",
       "      <td>60.920</td>\n",
       "      <td>33.933813</td>\n",
       "      <td>7.0</td>\n",
       "      <td>27.750</td>\n",
       "      <td>65.50</td>\n",
       "      <td>100.000</td>\n",
       "      <td>100.0</td>\n",
       "    </tr>\n",
       "    <tr>\n",
       "      <th>act_composite_2018</th>\n",
       "      <td>50.0</td>\n",
       "      <td>21.542</td>\n",
       "      <td>2.115549</td>\n",
       "      <td>17.7</td>\n",
       "      <td>20.000</td>\n",
       "      <td>21.30</td>\n",
       "      <td>23.675</td>\n",
       "      <td>25.6</td>\n",
       "    </tr>\n",
       "    <tr>\n",
       "      <th>sat_participation_2018</th>\n",
       "      <td>50.0</td>\n",
       "      <td>47.400</td>\n",
       "      <td>37.993555</td>\n",
       "      <td>2.0</td>\n",
       "      <td>4.250</td>\n",
       "      <td>53.50</td>\n",
       "      <td>79.750</td>\n",
       "      <td>100.0</td>\n",
       "    </tr>\n",
       "    <tr>\n",
       "      <th>sat_total_2018</th>\n",
       "      <td>50.0</td>\n",
       "      <td>1125.920</td>\n",
       "      <td>94.389519</td>\n",
       "      <td>977.0</td>\n",
       "      <td>1063.250</td>\n",
       "      <td>1099.00</td>\n",
       "      <td>1225.000</td>\n",
       "      <td>1298.0</td>\n",
       "    </tr>\n",
       "  </tbody>\n",
       "</table>\n",
       "</div>"
      ],
      "text/plain": [
       "                        count      mean        std    min       25%      50%  \\\n",
       "act_participation        50.0    64.560  32.077814    8.0    31.000    68.00   \n",
       "act_english              50.0    20.980   2.351552   16.3    19.100    20.80   \n",
       "act_math                 50.0    21.230   1.972386   18.0    19.500    21.05   \n",
       "act_reading              50.0    22.052   2.069925   18.1    20.500    21.85   \n",
       "act_science              50.0    21.070   3.208042    2.3    19.925    21.30   \n",
       "act_composite            50.0    21.562   2.018172   17.8    19.850    21.40   \n",
       "sat_participation        50.0    40.460  35.319076    2.0     4.000    40.50   \n",
       "sat_ebrw                 50.0   569.900  45.783987  482.0   535.250   559.50   \n",
       "sat_math                 50.0   548.240  85.657257   52.0   523.250   549.50   \n",
       "sat_total                50.0  1127.680  92.734301  950.0  1057.000  1107.50   \n",
       "act_participation_2018   50.0    60.920  33.933813    7.0    27.750    65.50   \n",
       "act_composite_2018       50.0    21.542   2.115549   17.7    20.000    21.30   \n",
       "sat_participation_2018   50.0    47.400  37.993555    2.0     4.250    53.50   \n",
       "sat_total_2018           50.0  1125.920  94.389519  977.0  1063.250  1099.00   \n",
       "\n",
       "                             75%     max  \n",
       "act_participation        100.000   100.0  \n",
       "act_english               23.300    25.5  \n",
       "act_math                  23.100    25.3  \n",
       "act_reading               24.175    26.0  \n",
       "act_science               22.975    24.9  \n",
       "act_composite             23.600    25.5  \n",
       "sat_participation         66.500   100.0  \n",
       "sat_ebrw                 613.500   644.0  \n",
       "sat_math                 601.000   651.0  \n",
       "sat_total               1214.000  1295.0  \n",
       "act_participation_2018   100.000   100.0  \n",
       "act_composite_2018        23.675    25.6  \n",
       "sat_participation_2018    79.750   100.0  \n",
       "sat_total_2018          1225.000  1298.0  "
      ]
     },
     "execution_count": 30,
     "metadata": {},
     "output_type": "execute_result"
    }
   ],
   "source": [
    "#Quick overview using describe\n",
    "final_df1.describe().T"
   ]
  },
  {
   "cell_type": "markdown",
   "metadata": {},
   "source": [
    "#### Manually calculate standard deviation\n",
    "\n",
    "$$\\sigma = \\sqrt{\\frac{1}{n}\\sum_{i=1}^n(x_i - \\mu)^2}$$\n",
    "\n",
    "- Write a function to calculate standard deviation using the formula above"
   ]
  },
  {
   "cell_type": "code",
   "execution_count": 31,
   "metadata": {},
   "outputs": [],
   "source": [
    "#Function to find the standard deviation\n",
    "import numpy as np\n",
    "def std_dev(a):\n",
    "    ss = 0\n",
    "    for i in a:\n",
    "        sum_of_sq = (i - np.mean(a))**2\n",
    "        ss += sum_of_sq\n",
    "    std = ((1/len(a))*ss)**0.5\n",
    "    return std"
   ]
  },
  {
   "cell_type": "code",
   "execution_count": 32,
   "metadata": {},
   "outputs": [
    {
     "data": {
      "text/plain": [
       "31.755415286215364"
      ]
     },
     "execution_count": 32,
     "metadata": {},
     "output_type": "execute_result"
    }
   ],
   "source": [
    "std_dev(final_df1['act_participation'])"
   ]
  },
  {
   "cell_type": "code",
   "execution_count": 33,
   "metadata": {},
   "outputs": [
    {
     "data": {
      "text/plain": [
       "31.755415286215364"
      ]
     },
     "execution_count": 33,
     "metadata": {},
     "output_type": "execute_result"
    }
   ],
   "source": [
    "np.std(final_df1['act_participation'])"
   ]
  },
  {
   "cell_type": "markdown",
   "metadata": {},
   "source": [
    "- Use a **dictionary comprehension** to apply your standard deviation function to each numeric column in the dataframe.  **No loops**  \n",
    "- Assign the output to variable `sd` as a dictionary where: \n",
    "    - Each column name is now a key \n",
    "    - That standard deviation of the column is the value \n",
    "     \n",
    "*Example Output :* `{'ACT_Math': 120, 'ACT_Reading': 120, ...}`"
   ]
  },
  {
   "cell_type": "code",
   "execution_count": 34,
   "metadata": {},
   "outputs": [
    {
     "data": {
      "text/plain": [
       "{'act_participation': 31.76,\n",
       " 'act_english': 2.33,\n",
       " 'act_math': 1.95,\n",
       " 'act_reading': 2.05,\n",
       " 'act_science': 3.18,\n",
       " 'act_composite': 2.0,\n",
       " 'sat_participation': 34.96,\n",
       " 'sat_ebrw': 45.32,\n",
       " 'sat_math': 84.8,\n",
       " 'sat_total': 91.8,\n",
       " 'act_participation_2018': 33.59,\n",
       " 'act_composite_2018': 2.09,\n",
       " 'sat_participation_2018': 37.61,\n",
       " 'sat_total_2018': 93.44}"
      ]
     },
     "execution_count": 34,
     "metadata": {},
     "output_type": "execute_result"
    }
   ],
   "source": [
    "#Finding std using the custom built function\n",
    "sd_myfunc = {column : np.round(std_dev(final_df1[column]),2) for column in final_df1.columns[1:]} \n",
    "sd_myfunc"
   ]
  },
  {
   "cell_type": "code",
   "execution_count": 35,
   "metadata": {},
   "outputs": [
    {
     "data": {
      "text/plain": [
       "{'act_participation': 31.76,\n",
       " 'act_english': 2.33,\n",
       " 'act_math': 1.95,\n",
       " 'act_reading': 2.05,\n",
       " 'act_science': 3.18,\n",
       " 'act_composite': 2.0,\n",
       " 'sat_participation': 34.96,\n",
       " 'sat_ebrw': 45.32,\n",
       " 'sat_math': 84.8,\n",
       " 'sat_total': 91.8,\n",
       " 'act_participation_2018': 33.59,\n",
       " 'act_composite_2018': 2.09,\n",
       " 'sat_participation_2018': 37.61,\n",
       " 'sat_total_2018': 93.44}"
      ]
     },
     "execution_count": 35,
     "metadata": {},
     "output_type": "execute_result"
    }
   ],
   "source": [
    "#Finding std using the np.std function\n",
    "sd_numpy = {column : np.round(np.std(final_df1[column]),2) for column in final_df1.columns[1:]}\n",
    "sd_numpy"
   ]
  },
  {
   "cell_type": "code",
   "execution_count": 36,
   "metadata": {},
   "outputs": [
    {
     "data": {
      "text/html": [
       "<div>\n",
       "<style scoped>\n",
       "    .dataframe tbody tr th:only-of-type {\n",
       "        vertical-align: middle;\n",
       "    }\n",
       "\n",
       "    .dataframe tbody tr th {\n",
       "        vertical-align: top;\n",
       "    }\n",
       "\n",
       "    .dataframe thead th {\n",
       "        text-align: right;\n",
       "    }\n",
       "</style>\n",
       "<table border=\"1\" class=\"dataframe\">\n",
       "  <thead>\n",
       "    <tr style=\"text-align: right;\">\n",
       "      <th></th>\n",
       "      <th>count</th>\n",
       "      <th>mean</th>\n",
       "      <th>std</th>\n",
       "      <th>min</th>\n",
       "      <th>25%</th>\n",
       "      <th>50%</th>\n",
       "      <th>75%</th>\n",
       "      <th>max</th>\n",
       "    </tr>\n",
       "  </thead>\n",
       "  <tbody>\n",
       "    <tr>\n",
       "      <th>act_participation</th>\n",
       "      <td>50.0</td>\n",
       "      <td>64.560</td>\n",
       "      <td>32.077814</td>\n",
       "      <td>8.0</td>\n",
       "      <td>31.000</td>\n",
       "      <td>68.00</td>\n",
       "      <td>100.000</td>\n",
       "      <td>100.0</td>\n",
       "    </tr>\n",
       "    <tr>\n",
       "      <th>act_english</th>\n",
       "      <td>50.0</td>\n",
       "      <td>20.980</td>\n",
       "      <td>2.351552</td>\n",
       "      <td>16.3</td>\n",
       "      <td>19.100</td>\n",
       "      <td>20.80</td>\n",
       "      <td>23.300</td>\n",
       "      <td>25.5</td>\n",
       "    </tr>\n",
       "    <tr>\n",
       "      <th>act_math</th>\n",
       "      <td>50.0</td>\n",
       "      <td>21.230</td>\n",
       "      <td>1.972386</td>\n",
       "      <td>18.0</td>\n",
       "      <td>19.500</td>\n",
       "      <td>21.05</td>\n",
       "      <td>23.100</td>\n",
       "      <td>25.3</td>\n",
       "    </tr>\n",
       "    <tr>\n",
       "      <th>act_reading</th>\n",
       "      <td>50.0</td>\n",
       "      <td>22.052</td>\n",
       "      <td>2.069925</td>\n",
       "      <td>18.1</td>\n",
       "      <td>20.500</td>\n",
       "      <td>21.85</td>\n",
       "      <td>24.175</td>\n",
       "      <td>26.0</td>\n",
       "    </tr>\n",
       "    <tr>\n",
       "      <th>act_science</th>\n",
       "      <td>50.0</td>\n",
       "      <td>21.070</td>\n",
       "      <td>3.208042</td>\n",
       "      <td>2.3</td>\n",
       "      <td>19.925</td>\n",
       "      <td>21.30</td>\n",
       "      <td>22.975</td>\n",
       "      <td>24.9</td>\n",
       "    </tr>\n",
       "    <tr>\n",
       "      <th>act_composite</th>\n",
       "      <td>50.0</td>\n",
       "      <td>21.562</td>\n",
       "      <td>2.018172</td>\n",
       "      <td>17.8</td>\n",
       "      <td>19.850</td>\n",
       "      <td>21.40</td>\n",
       "      <td>23.600</td>\n",
       "      <td>25.5</td>\n",
       "    </tr>\n",
       "    <tr>\n",
       "      <th>sat_participation</th>\n",
       "      <td>50.0</td>\n",
       "      <td>40.460</td>\n",
       "      <td>35.319076</td>\n",
       "      <td>2.0</td>\n",
       "      <td>4.000</td>\n",
       "      <td>40.50</td>\n",
       "      <td>66.500</td>\n",
       "      <td>100.0</td>\n",
       "    </tr>\n",
       "    <tr>\n",
       "      <th>sat_ebrw</th>\n",
       "      <td>50.0</td>\n",
       "      <td>569.900</td>\n",
       "      <td>45.783987</td>\n",
       "      <td>482.0</td>\n",
       "      <td>535.250</td>\n",
       "      <td>559.50</td>\n",
       "      <td>613.500</td>\n",
       "      <td>644.0</td>\n",
       "    </tr>\n",
       "    <tr>\n",
       "      <th>sat_math</th>\n",
       "      <td>50.0</td>\n",
       "      <td>548.240</td>\n",
       "      <td>85.657257</td>\n",
       "      <td>52.0</td>\n",
       "      <td>523.250</td>\n",
       "      <td>549.50</td>\n",
       "      <td>601.000</td>\n",
       "      <td>651.0</td>\n",
       "    </tr>\n",
       "    <tr>\n",
       "      <th>sat_total</th>\n",
       "      <td>50.0</td>\n",
       "      <td>1127.680</td>\n",
       "      <td>92.734301</td>\n",
       "      <td>950.0</td>\n",
       "      <td>1057.000</td>\n",
       "      <td>1107.50</td>\n",
       "      <td>1214.000</td>\n",
       "      <td>1295.0</td>\n",
       "    </tr>\n",
       "    <tr>\n",
       "      <th>act_participation_2018</th>\n",
       "      <td>50.0</td>\n",
       "      <td>60.920</td>\n",
       "      <td>33.933813</td>\n",
       "      <td>7.0</td>\n",
       "      <td>27.750</td>\n",
       "      <td>65.50</td>\n",
       "      <td>100.000</td>\n",
       "      <td>100.0</td>\n",
       "    </tr>\n",
       "    <tr>\n",
       "      <th>act_composite_2018</th>\n",
       "      <td>50.0</td>\n",
       "      <td>21.542</td>\n",
       "      <td>2.115549</td>\n",
       "      <td>17.7</td>\n",
       "      <td>20.000</td>\n",
       "      <td>21.30</td>\n",
       "      <td>23.675</td>\n",
       "      <td>25.6</td>\n",
       "    </tr>\n",
       "    <tr>\n",
       "      <th>sat_participation_2018</th>\n",
       "      <td>50.0</td>\n",
       "      <td>47.400</td>\n",
       "      <td>37.993555</td>\n",
       "      <td>2.0</td>\n",
       "      <td>4.250</td>\n",
       "      <td>53.50</td>\n",
       "      <td>79.750</td>\n",
       "      <td>100.0</td>\n",
       "    </tr>\n",
       "    <tr>\n",
       "      <th>sat_total_2018</th>\n",
       "      <td>50.0</td>\n",
       "      <td>1125.920</td>\n",
       "      <td>94.389519</td>\n",
       "      <td>977.0</td>\n",
       "      <td>1063.250</td>\n",
       "      <td>1099.00</td>\n",
       "      <td>1225.000</td>\n",
       "      <td>1298.0</td>\n",
       "    </tr>\n",
       "  </tbody>\n",
       "</table>\n",
       "</div>"
      ],
      "text/plain": [
       "                        count      mean        std    min       25%      50%  \\\n",
       "act_participation        50.0    64.560  32.077814    8.0    31.000    68.00   \n",
       "act_english              50.0    20.980   2.351552   16.3    19.100    20.80   \n",
       "act_math                 50.0    21.230   1.972386   18.0    19.500    21.05   \n",
       "act_reading              50.0    22.052   2.069925   18.1    20.500    21.85   \n",
       "act_science              50.0    21.070   3.208042    2.3    19.925    21.30   \n",
       "act_composite            50.0    21.562   2.018172   17.8    19.850    21.40   \n",
       "sat_participation        50.0    40.460  35.319076    2.0     4.000    40.50   \n",
       "sat_ebrw                 50.0   569.900  45.783987  482.0   535.250   559.50   \n",
       "sat_math                 50.0   548.240  85.657257   52.0   523.250   549.50   \n",
       "sat_total                50.0  1127.680  92.734301  950.0  1057.000  1107.50   \n",
       "act_participation_2018   50.0    60.920  33.933813    7.0    27.750    65.50   \n",
       "act_composite_2018       50.0    21.542   2.115549   17.7    20.000    21.30   \n",
       "sat_participation_2018   50.0    47.400  37.993555    2.0     4.250    53.50   \n",
       "sat_total_2018           50.0  1125.920  94.389519  977.0  1063.250  1099.00   \n",
       "\n",
       "                             75%     max  \n",
       "act_participation        100.000   100.0  \n",
       "act_english               23.300    25.5  \n",
       "act_math                  23.100    25.3  \n",
       "act_reading               24.175    26.0  \n",
       "act_science               22.975    24.9  \n",
       "act_composite             23.600    25.5  \n",
       "sat_participation         66.500   100.0  \n",
       "sat_ebrw                 613.500   644.0  \n",
       "sat_math                 601.000   651.0  \n",
       "sat_total               1214.000  1295.0  \n",
       "act_participation_2018   100.000   100.0  \n",
       "act_composite_2018        23.675    25.6  \n",
       "sat_participation_2018    79.750   100.0  \n",
       "sat_total_2018          1225.000  1298.0  "
      ]
     },
     "execution_count": 36,
     "metadata": {},
     "output_type": "execute_result"
    }
   ],
   "source": [
    "final_df1.describe().T"
   ]
  },
  {
   "cell_type": "markdown",
   "metadata": {},
   "source": [
    "Do your manually calculated standard deviations match up with the output from pandas `describe`? What about numpy's `std` method?"
   ]
  },
  {
   "cell_type": "markdown",
   "metadata": {},
   "source": [
    "The caluclated standard deviations via my function and the numpy method do match with each other. However the pandas describe provides slightly different answers."
   ]
  },
  {
   "cell_type": "markdown",
   "metadata": {},
   "source": [
    "#### Investigate trends in the data\n",
    "Using sorting and/or masking (along with the `.head` method to not print our entire dataframe), consider the following questions:\n",
    "\n",
    "- Which states have the highest and lowest participation rates for the:\n",
    "    - 2017 SAT?\n",
    "    - 2018 SAT?\n",
    "    - 2017 ACT?\n",
    "    - 2018 ACT?\n",
    "- Which states have the highest and lowest mean total/composite scores for the:\n",
    "    - 2017 SAT?\n",
    "    - 2018 SAT?\n",
    "    - 2017 ACT?\n",
    "    - 2018 ACT?\n",
    "- Do any states with 100% participation on a given test have a rate change year-to-year?\n",
    "- Do any states show have >50% participation on *both* tests either year?\n",
    "\n",
    "Based on what you've just observed, have you identified any states that you're especially interested in? **Make a note of these and state *why* you think they're interesting**.\n",
    "\n",
    "**You should comment on your findings at each step in a markdown cell below your code block**. Make sure you include at least one example of sorting your dataframe by a column, and one example of using boolean filtering (i.e., masking) to select a subset of the dataframe."
   ]
  },
  {
   "cell_type": "code",
   "execution_count": 37,
   "metadata": {},
   "outputs": [],
   "source": [
    "#Highest and Lowest SAT/ACT\n",
    "sat_highest_part_2017 = final_df1.sort_values('sat_participation', ascending = False).head(4)['state'].values\n",
    "sat_highest_part_2018 = final_df1.sort_values('sat_participation_2018', ascending = False).head(5)['state'].values\n",
    "act_highest_part_2017 = final_df1.sort_values('act_participation', ascending = False).head(16)['state'].values\n",
    "act_highest_part_2018 = final_df1.sort_values('act_participation_2018', ascending = False).head(16)['state'].values\n",
    "\n",
    "sat_lowest_part_2017 = final_df1.sort_values('sat_participation').head(3)['state'].values\n",
    "sat_lowest_part_2018 = final_df1.sort_values('sat_participation_2018').head(1)['state'].values\n",
    "act_lowest_part_2017 = final_df1.sort_values('act_participation').head(1)['state'].values\n",
    "act_lowest_part_2018 = final_df1.sort_values('act_participation_2018').head(1)['state'].values"
   ]
  },
  {
   "cell_type": "code",
   "execution_count": 38,
   "metadata": {},
   "outputs": [],
   "source": [
    "#Custom functions for finding highs and lows of these data frames\n",
    "def lowest(values_list, df, column):\n",
    "    g = []\n",
    "    for i, j in enumerate(values_list):\n",
    "        if j == np.min(values_list):\n",
    "            g.append(df[column][i])\n",
    "    return g\n",
    "\n",
    "def highest(values_list, df, column):\n",
    "    d = []\n",
    "    for i, j in enumerate(values_list):\n",
    "        if j == np.max(values_list):\n",
    "            d.append(df[column][i])\n",
    "    return d"
   ]
  },
  {
   "cell_type": "code",
   "execution_count": 114,
   "metadata": {},
   "outputs": [],
   "source": [
    "#Highest and Lowest SAT/ACT\n",
    "sat_highest_part_2017 = highest(final_df1['sat_participation'], final_df1, 'state')\n",
    "sat_highest_part_2018 = highest(final_df1['sat_participation_2018'], final_df1, 'state')\n",
    "act_highest_part_2017 = highest(final_df1['act_participation'], final_df1, 'state')\n",
    "act_highest_part_2018 = highest(final_df1['act_participation_2018'], final_df1, 'state')\n",
    "\n",
    "sat_lowest_part_2017 = lowest(final_df1['sat_participation'], final_df1, 'state')\n",
    "sat_lowest_part_2018 = lowest(final_df1['sat_participation_2018'], final_df1, 'state')\n",
    "act_lowest_part_2017 = lowest(final_df1['act_participation'], final_df1, 'state')\n",
    "act_lowest_part_2018 = lowest(final_df1['act_participation_2018'], final_df1, 'state')"
   ]
  },
  {
   "cell_type": "code",
   "execution_count": 115,
   "metadata": {},
   "outputs": [],
   "source": [
    "#Highest and lowest mean total/Composite\n",
    "highest_act_composite_2017 = highest(final_df1['act_composite'], final_df1, 'state')\n",
    "highest_sat_total_2017 = highest(final_df1['sat_total'], final_df1, 'state')\n",
    "highest_act_composite_2018 = highest(final_df1['act_composite_2018'], final_df1, 'state')\n",
    "highest_sat_total_2018 = highest(final_df1['sat_total_2018'], final_df1, 'state')\n",
    "\n",
    "lowest_act_composite_2017 = lowest(final_df1['act_composite'], final_df1, 'state')\n",
    "lowest_sat_total_2017 = lowest(final_df1['sat_total'], final_df1, 'state')\n",
    "lowest_act_composite_2018 = lowest(final_df1['act_composite_2018'], final_df1, 'state')\n",
    "lowest_sat_total_2018 = lowest(final_df1['sat_total_2018'], final_df1, 'state')\n"
   ]
  },
  {
   "cell_type": "code",
   "execution_count": 270,
   "metadata": {},
   "outputs": [
    {
     "name": "stdout",
     "output_type": "stream",
     "text": [
      "Highest ACT ['New Hampshire']\n",
      "Highest SAT ['Minnesota']\n",
      "Highest ACT 2018 ['Connecticut']\n",
      "Highest SAT 2018 ['Minnesota']\n"
     ]
    }
   ],
   "source": [
    "print ('Highest ACT',highest_act_composite_2017)\n",
    "print ('Highest SAT',highest_sat_total_2017)\n",
    "print ('Highest ACT 2018',highest_act_composite_2018)\n",
    "print ('Highest SAT 2018',highest_sat_total_2018)"
   ]
  },
  {
   "cell_type": "code",
   "execution_count": 271,
   "metadata": {},
   "outputs": [
    {
     "data": {
      "text/html": [
       "<div>\n",
       "<style scoped>\n",
       "    .dataframe tbody tr th:only-of-type {\n",
       "        vertical-align: middle;\n",
       "    }\n",
       "\n",
       "    .dataframe tbody tr th {\n",
       "        vertical-align: top;\n",
       "    }\n",
       "\n",
       "    .dataframe thead th {\n",
       "        text-align: right;\n",
       "    }\n",
       "</style>\n",
       "<table border=\"1\" class=\"dataframe\">\n",
       "  <thead>\n",
       "    <tr style=\"text-align: right;\">\n",
       "      <th></th>\n",
       "      <th>state</th>\n",
       "      <th>act_participation</th>\n",
       "      <th>act_english</th>\n",
       "      <th>act_math</th>\n",
       "      <th>act_reading</th>\n",
       "      <th>act_science</th>\n",
       "      <th>act_composite</th>\n",
       "      <th>sat_participation</th>\n",
       "      <th>sat_ebrw</th>\n",
       "      <th>sat_math</th>\n",
       "      <th>sat_total</th>\n",
       "      <th>act_participation_2018</th>\n",
       "      <th>act_composite_2018</th>\n",
       "      <th>sat_participation_2018</th>\n",
       "      <th>sat_total_2018</th>\n",
       "    </tr>\n",
       "  </thead>\n",
       "  <tbody>\n",
       "    <tr>\n",
       "      <th>23</th>\n",
       "      <td>Minnesota</td>\n",
       "      <td>100.0</td>\n",
       "      <td>20.4</td>\n",
       "      <td>21.5</td>\n",
       "      <td>21.8</td>\n",
       "      <td>21.6</td>\n",
       "      <td>21.5</td>\n",
       "      <td>3.0</td>\n",
       "      <td>644.0</td>\n",
       "      <td>651.0</td>\n",
       "      <td>1295.0</td>\n",
       "      <td>99</td>\n",
       "      <td>21.3</td>\n",
       "      <td>4</td>\n",
       "      <td>1298</td>\n",
       "    </tr>\n",
       "  </tbody>\n",
       "</table>\n",
       "</div>"
      ],
      "text/plain": [
       "        state  act_participation  act_english  act_math  act_reading  \\\n",
       "23  Minnesota              100.0         20.4      21.5         21.8   \n",
       "\n",
       "    act_science  act_composite  sat_participation  sat_ebrw  sat_math  \\\n",
       "23         21.6           21.5                3.0     644.0     651.0   \n",
       "\n",
       "    sat_total  act_participation_2018  act_composite_2018  \\\n",
       "23     1295.0                      99                21.3   \n",
       "\n",
       "    sat_participation_2018  sat_total_2018  \n",
       "23                       4            1298  "
      ]
     },
     "execution_count": 271,
     "metadata": {},
     "output_type": "execute_result"
    }
   ],
   "source": [
    "final_df1[final_df1.state == 'Minnesota']"
   ]
  },
  {
   "cell_type": "code",
   "execution_count": 117,
   "metadata": {},
   "outputs": [
    {
     "name": "stdout",
     "output_type": "stream",
     "text": [
      "\n",
      "The states which had the highest SAT particpation in 2017: \n",
      " ['Connecticut', 'Delaware', 'District of Columbia', 'Michigan']\n",
      "\n",
      "The states which had the lowest SAT in 2017 were: \n",
      " ['Iowa', 'Mississippi', 'North Dakota']\n"
     ]
    }
   ],
   "source": [
    "# - Which states have the highest and lowest participation rates for the:\n",
    "#     - 2017 SAT?\n",
    "#     - 2018 SAT?\n",
    "#     - 2017 ACT?\n",
    "#     - 2018 ACT?\n",
    "\n",
    "# Which states have the highest and lowest participation rates for the:\n",
    "# 2017 SAT?\n",
    "print(f'\\nThe states which had the highest SAT particpation in 2017: \\n {sat_highest_part_2017}')\n",
    "print(f'\\nThe states which had the lowest SAT in 2017 were: \\n {sat_lowest_part_2017}')"
   ]
  },
  {
   "cell_type": "code",
   "execution_count": null,
   "metadata": {},
   "outputs": [],
   "source": []
  },
  {
   "cell_type": "code",
   "execution_count": 118,
   "metadata": {},
   "outputs": [
    {
     "name": "stdout",
     "output_type": "stream",
     "text": [
      "\n",
      "The states which had the highest SAT particpation in 2018: \n",
      " ['Colorado', 'Connecticut', 'Delaware', 'Idaho', 'Michigan']\n",
      "\n",
      "The states which had the lowest SAT in 2018 were: \n",
      " ['North Dakota']\n"
     ]
    }
   ],
   "source": [
    "# Which states have the highest and lowest participation rates for the:\n",
    "# 2018 SAT?\n",
    "print(f'\\nThe states which had the highest SAT particpation in 2018: \\n {sat_highest_part_2018}')\n",
    "print(f'\\nThe states which had the lowest SAT in 2018 were: \\n {sat_lowest_part_2018}')"
   ]
  },
  {
   "cell_type": "code",
   "execution_count": 44,
   "metadata": {},
   "outputs": [
    {
     "name": "stdout",
     "output_type": "stream",
     "text": [
      "\n",
      "The states which had the highest ACT particpation in 2017: \n",
      " ['Alabama', 'Arkansas', 'Colorado', 'Kentucky', 'Louisiana', 'Minnesota', 'Mississippi', 'Missouri', 'Montana', 'Nevada', 'North Carolina', 'South Carolina', 'Tennessee', 'Utah', 'Wisconsin', 'Wyoming']\n",
      "\n",
      "The states which had the lowest ACT in 2017 were: \n",
      " ['Maine']\n"
     ]
    }
   ],
   "source": [
    "# Which states have the highest and lowest participation rates for the:\n",
    "# 2017 ACT?\n",
    "print(f'\\nThe states which had the highest ACT particpation in 2017: \\n {act_highest_part_2017}')\n",
    "print(f'\\nThe states which had the lowest ACT in 2017 were: \\n {act_lowest_part_2017}')"
   ]
  },
  {
   "cell_type": "code",
   "execution_count": 119,
   "metadata": {},
   "outputs": [
    {
     "name": "stdout",
     "output_type": "stream",
     "text": [
      "\n",
      "The states which had the highest ACT particpation in 2018: \n",
      " ['Alabama', 'Arkansas', 'Kentucky', 'Louisiana', 'Mississippi', 'Missouri', 'Montana', 'Nebraska', 'Nevada', 'North Carolina', 'Ohio', 'South Carolina', 'Tennessee', 'Utah', 'Wisconsin', 'Wyoming']\n",
      "\n",
      "The states which had the lowest ACT in 2018 were: \n",
      " ['Maine']\n"
     ]
    }
   ],
   "source": [
    "# Which states have the highest and lowest participation rates for the:\n",
    "# 2018 ACT?\n",
    "print(f'\\nThe states which had the highest ACT particpation in 2018: \\n {act_highest_part_2018}')\n",
    "print(f'\\nThe states which had the lowest ACT in 2018 were: \\n {act_lowest_part_2018}')"
   ]
  },
  {
   "cell_type": "code",
   "execution_count": 120,
   "metadata": {},
   "outputs": [
    {
     "name": "stdout",
     "output_type": "stream",
     "text": [
      "['Colorado', 'Minnesota'] underwent an ACT participation rate change from 2017 to 2018\n",
      "['District of Columbia'] underwent an SAT participation rate change from 2017 to 2018\n"
     ]
    }
   ],
   "source": [
    "#States that have a rate change from 2017 to 2018:\n",
    "def list_compare(list1, list2):\n",
    "    dummy = []\n",
    "    for i in list1:\n",
    "        if i not in list2:\n",
    "            dummy.append(i)\n",
    "    return dummy\n",
    "\n",
    "\n",
    "print(f'{list_compare(act_highest_part_2017, act_highest_part_2018)} underwent an ACT participation rate change from 2017 to 2018')\n",
    "print(f'{list_compare(sat_highest_part_2017, sat_highest_part_2018)} underwent an SAT participation rate change from 2017 to 2018')"
   ]
  },
  {
   "cell_type": "code",
   "execution_count": 121,
   "metadata": {},
   "outputs": [
    {
     "data": {
      "text/html": [
       "<div>\n",
       "<style scoped>\n",
       "    .dataframe tbody tr th:only-of-type {\n",
       "        vertical-align: middle;\n",
       "    }\n",
       "\n",
       "    .dataframe tbody tr th {\n",
       "        vertical-align: top;\n",
       "    }\n",
       "\n",
       "    .dataframe thead th {\n",
       "        text-align: right;\n",
       "    }\n",
       "</style>\n",
       "<table border=\"1\" class=\"dataframe\">\n",
       "  <thead>\n",
       "    <tr style=\"text-align: right;\">\n",
       "      <th></th>\n",
       "      <th>state</th>\n",
       "      <th>act_participation</th>\n",
       "      <th>act_english</th>\n",
       "      <th>act_math</th>\n",
       "      <th>act_reading</th>\n",
       "      <th>act_science</th>\n",
       "      <th>act_composite</th>\n",
       "      <th>sat_participation</th>\n",
       "      <th>sat_ebrw</th>\n",
       "      <th>sat_math</th>\n",
       "      <th>sat_total</th>\n",
       "      <th>act_participation_2018</th>\n",
       "      <th>act_composite_2018</th>\n",
       "      <th>sat_participation_2018</th>\n",
       "      <th>sat_total_2018</th>\n",
       "    </tr>\n",
       "  </thead>\n",
       "  <tbody>\n",
       "    <tr>\n",
       "      <th>36</th>\n",
       "      <td>Oregon</td>\n",
       "      <td>40.0</td>\n",
       "      <td>21.2</td>\n",
       "      <td>21.5</td>\n",
       "      <td>22.4</td>\n",
       "      <td>21.7</td>\n",
       "      <td>21.8</td>\n",
       "      <td>43.0</td>\n",
       "      <td>560.0</td>\n",
       "      <td>548.0</td>\n",
       "      <td>1108.0</td>\n",
       "      <td>42</td>\n",
       "      <td>21.3</td>\n",
       "      <td>48</td>\n",
       "      <td>1117</td>\n",
       "    </tr>\n",
       "  </tbody>\n",
       "</table>\n",
       "</div>"
      ],
      "text/plain": [
       "     state  act_participation  act_english  act_math  act_reading  \\\n",
       "36  Oregon               40.0         21.2      21.5         22.4   \n",
       "\n",
       "    act_science  act_composite  sat_participation  sat_ebrw  sat_math  \\\n",
       "36         21.7           21.8               43.0     560.0     548.0   \n",
       "\n",
       "    sat_total  act_participation_2018  act_composite_2018  \\\n",
       "36     1108.0                      42                21.3   \n",
       "\n",
       "    sat_participation_2018  sat_total_2018  \n",
       "36                      48            1117  "
      ]
     },
     "execution_count": 121,
     "metadata": {},
     "output_type": "execute_result"
    }
   ],
   "source": [
    "#States that had 50% or less participation in 2017\n",
    "final_df1[(final_df1['sat_participation'] < 50) & (final_df1['act_participation'] < 50)]\n"
   ]
  },
  {
   "cell_type": "code",
   "execution_count": 122,
   "metadata": {},
   "outputs": [
    {
     "data": {
      "text/html": [
       "<div>\n",
       "<style scoped>\n",
       "    .dataframe tbody tr th:only-of-type {\n",
       "        vertical-align: middle;\n",
       "    }\n",
       "\n",
       "    .dataframe tbody tr th {\n",
       "        vertical-align: top;\n",
       "    }\n",
       "\n",
       "    .dataframe thead th {\n",
       "        text-align: right;\n",
       "    }\n",
       "</style>\n",
       "<table border=\"1\" class=\"dataframe\">\n",
       "  <thead>\n",
       "    <tr style=\"text-align: right;\">\n",
       "      <th></th>\n",
       "      <th>state</th>\n",
       "      <th>act_participation</th>\n",
       "      <th>act_english</th>\n",
       "      <th>act_math</th>\n",
       "      <th>act_reading</th>\n",
       "      <th>act_science</th>\n",
       "      <th>act_composite</th>\n",
       "      <th>sat_participation</th>\n",
       "      <th>sat_ebrw</th>\n",
       "      <th>sat_math</th>\n",
       "      <th>sat_total</th>\n",
       "      <th>act_participation_2018</th>\n",
       "      <th>act_composite_2018</th>\n",
       "      <th>sat_participation_2018</th>\n",
       "      <th>sat_total_2018</th>\n",
       "    </tr>\n",
       "  </thead>\n",
       "  <tbody>\n",
       "    <tr>\n",
       "      <th>1</th>\n",
       "      <td>Alaska</td>\n",
       "      <td>65.0</td>\n",
       "      <td>18.7</td>\n",
       "      <td>19.8</td>\n",
       "      <td>20.4</td>\n",
       "      <td>19.9</td>\n",
       "      <td>19.8</td>\n",
       "      <td>38.0</td>\n",
       "      <td>547.0</td>\n",
       "      <td>533.0</td>\n",
       "      <td>1080.0</td>\n",
       "      <td>33</td>\n",
       "      <td>20.8</td>\n",
       "      <td>43</td>\n",
       "      <td>1106</td>\n",
       "    </tr>\n",
       "    <tr>\n",
       "      <th>36</th>\n",
       "      <td>Oregon</td>\n",
       "      <td>40.0</td>\n",
       "      <td>21.2</td>\n",
       "      <td>21.5</td>\n",
       "      <td>22.4</td>\n",
       "      <td>21.7</td>\n",
       "      <td>21.8</td>\n",
       "      <td>43.0</td>\n",
       "      <td>560.0</td>\n",
       "      <td>548.0</td>\n",
       "      <td>1108.0</td>\n",
       "      <td>42</td>\n",
       "      <td>21.3</td>\n",
       "      <td>48</td>\n",
       "      <td>1117</td>\n",
       "    </tr>\n",
       "  </tbody>\n",
       "</table>\n",
       "</div>"
      ],
      "text/plain": [
       "     state  act_participation  act_english  act_math  act_reading  \\\n",
       "1   Alaska               65.0         18.7      19.8         20.4   \n",
       "36  Oregon               40.0         21.2      21.5         22.4   \n",
       "\n",
       "    act_science  act_composite  sat_participation  sat_ebrw  sat_math  \\\n",
       "1          19.9           19.8               38.0     547.0     533.0   \n",
       "36         21.7           21.8               43.0     560.0     548.0   \n",
       "\n",
       "    sat_total  act_participation_2018  act_composite_2018  \\\n",
       "1      1080.0                      33                20.8   \n",
       "36     1108.0                      42                21.3   \n",
       "\n",
       "    sat_participation_2018  sat_total_2018  \n",
       "1                       43            1106  \n",
       "36                      48            1117  "
      ]
     },
     "execution_count": 122,
     "metadata": {},
     "output_type": "execute_result"
    }
   ],
   "source": [
    "#States that had 50% or less participation in 2018\n",
    "final_df1[(final_df1['sat_participation_2018'] < 50) & (final_df1['act_participation_2018'] < 50)]"
   ]
  },
  {
   "cell_type": "markdown",
   "metadata": {},
   "source": [
    "## Visualize the data\n",
    "\n",
    "There's not a magic bullet recommendation for the right number of plots to understand a given dataset, but visualizing your data is *always* a good idea. Not only does it allow you to quickly convey your findings (even if you have a non-technical audience), it will often reveal trends in your data that escaped you when you were looking only at numbers.\n",
    "\n",
    "Some recommendations on plotting:\n",
    "- Plots have titles\n",
    "- Plots have axis labels\n",
    "- Plots have appropriate tick labels\n",
    "- All text is legible in a plot\n",
    "- Plots demonstrate meaningful and valid relationships\n",
    "- Plots are interpreted to aid understanding\n",
    "\n",
    "There is such a thing as too many plots, and there are a *lot* of bad plots. You might make some! (But hopefully not with the guided prompts below)."
   ]
  },
  {
   "cell_type": "markdown",
   "metadata": {},
   "source": [
    "#### Use Seaborn's heatmap with pandas `.corr()` to visualize correlations between all numeric features\n",
    "\n",
    "Heatmaps are generally not appropriate for presentations, and should often be excluded from reports as they can be visually overwhelming. **However**, they can be extremely useful in identify relationships of potential interest (as well as identifying potential collinearity before modeling).\n",
    "\n",
    "*example*:\n",
    "```python\n",
    "sns.heatmap(df.corr())\n",
    "```\n",
    "\n",
    "Please take time to format your output, adding a title. Look through some of the additional arguments and options. (Axis labels aren't really necessary, as long as the title is informative)."
   ]
  },
  {
   "cell_type": "code",
   "execution_count": 49,
   "metadata": {},
   "outputs": [
    {
     "data": {
      "text/plain": [
       "<matplotlib.axes._subplots.AxesSubplot at 0xb10f0e6d8>"
      ]
     },
     "execution_count": 49,
     "metadata": {},
     "output_type": "execute_result"
    },
    {
     "data": {
      "image/png": "[encoded data removed]",
      "text/plain": [
       "<Figure size 936x576 with 2 Axes>"
      ]
     },
     "metadata": {
      "needs_background": "light"
     },
     "output_type": "display_data"
    }
   ],
   "source": [
    "import seaborn as sns\n",
    "plt.figure(figsize= (13,8))\n",
    "sns.heatmap(final_df1.corr(), cmap ='coolwarm', annot= True)"
   ]
  },
  {
   "cell_type": "markdown",
   "metadata": {},
   "source": [
    "#### Define a custom function to subplot histograms\n",
    "\n",
    "We have data for two tests for two years. We only have composite (and not subtest scores) for the 2018 ACT. We should write a function that will take the names of 2+ columns and subplot histograms. While you can use pandas plotting or Seaborn here, matplotlib gives you greater control over all aspects of your plots.\n",
    "\n",
    "[Helpful Link for Plotting Multiple Figures](https://matplotlib.org/users/pyplot_tutorial.html#working-with-multiple-figures-and-axes)\n",
    "\n",
    "Here's some starter code:"
   ]
  },
  {
   "cell_type": "code",
   "execution_count": 50,
   "metadata": {},
   "outputs": [],
   "source": [
    "def subplot_histograms(dataframe, list_of_columns, list_of_titles, list_of_xlabels):\n",
    "    nrows = int(np.ceil(len(list_of_columns)/2)) # Makes sure you have enough rows\n",
    "    fig, ax = plt.subplots(nrows=nrows, ncols=2, figsize= (12,12)) # You'll want to specify your figsize\n",
    "    fig.tight_layout()\n",
    "    ax = ax.ravel() # Ravel turns a matrix into a vector, which is easier to iterate\n",
    "    for i, column in enumerate(list_of_columns): # Gives us an index value to get into all our lists\n",
    "        ax[i].hist(dataframe[column]) # feel free to add more settings\n",
    "        # Set titles, labels, etc here for each subplot\n",
    "        ax[i].set_title(list_of_titles[i])\n",
    "        ax[i].set_xlabel(list_of_xlabels[i])\n",
    "    plt.subplots_adjust(left=None, bottom=None, right=None, top=None, wspace=None, hspace=0.5)\n",
    "        "
   ]
  },
  {
   "cell_type": "markdown",
   "metadata": {},
   "source": [
    "#### Plot and interpret histograms \n",
    "For each of the following:\n",
    "- Participation rates for SAT & ACT\n",
    "- Math scores for SAT & ACT\n",
    "- Reading/verbal scores for SAT & ACT"
   ]
  },
  {
   "cell_type": "code",
   "execution_count": 272,
   "metadata": {},
   "outputs": [
    {
     "data": {
      "image/png": "[encoded data removed]",
      "text/plain": [
       "<Figure size 864x864 with 6 Axes>"
      ]
     },
     "metadata": {
      "needs_background": "light"
     },
     "output_type": "display_data"
    }
   ],
   "source": [
    "# Histograms\n",
    "subplot_histograms(final_df1, \n",
    "                   ['act_participation','sat_participation', 'act_math', 'sat_math', 'act_reading', 'sat_ebrw', ], \n",
    "                   ['ACT Participation','SAT Participation', 'ACT Math', 'SAT Math', 'SAT EBRW', 'ACT Reading'], \n",
    "                   ['ACT Participation Rate','SAT Participation Rate', 'ACT Math Scores', 'SAT Math Scores',' ACT Reading scores', 'SAT EBRW scores' ])"
   ]
  },
  {
   "cell_type": "markdown",
   "metadata": {},
   "source": [
    "#### Plot and interpret scatter plots\n",
    "\n",
    "For each of the following:\n",
    "- SAT vs. ACT math scores for 2017\n",
    "- SAT vs. ACT verbal/reading scores for 2017\n",
    "- SAT vs. ACT total/composite scores for 2017\n",
    "- Total scores for SAT 2017 vs. 2018\n",
    "- Composite scores for ACT 2017 vs. 2018\n",
    "\n",
    "Plot the two variables against each other using matplotlib or Seaborn\n",
    "\n",
    "Your plots should show:\n",
    "- Two clearly labeled axes\n",
    "- A proper title\n",
    "- Using colors and symbols that are clear and unmistakable\n",
    "\n",
    "**Feel free to write a custom function, and subplot if you'd like.** Functions save both time and space.\n"
   ]
  },
  {
   "cell_type": "code",
   "execution_count": 52,
   "metadata": {},
   "outputs": [],
   "source": [
    "# #Before plotting these I would like to normalize our data\n",
    "# final_df2 = final_df1\n",
    "\n",
    "# final_df2.head()"
   ]
  },
  {
   "cell_type": "code",
   "execution_count": 53,
   "metadata": {},
   "outputs": [],
   "source": [
    "# for i in final_df2.columns[1:]:\n",
    "#     final_df2[i] = (final_df2[i] - np.mean(final_df2[i]))/np.std(final_df2[i])"
   ]
  },
  {
   "cell_type": "code",
   "execution_count": 54,
   "metadata": {},
   "outputs": [],
   "source": [
    "#Creating the scatter plotting function\n",
    "t = np.arange(50)\n",
    "def subplot_scatter(dataframe, list_of_comparisons, list_of_titles, list_of_labels):\n",
    "    nrows = int(np.ceil(len(list_of_comparisons)/2)) # Makes sure you have enough rows\n",
    "    fig, ax = plt.subplots(nrows=nrows, ncols=2, figsize= (12,12)) # You'll want to specify your figsize\n",
    "    fig.tight_layout()\n",
    "    ax = ax.ravel() # Ravel turns a matrix into a vector, which is easier to iterate\n",
    "    for i, column in enumerate(list_of_comparisons): # Gives us an index value to get into all our lists\n",
    "        ax[i].scatter(dataframe[list_of_comparisons[i][0]],\n",
    "                      dataframe[list_of_comparisons[i][1]],\n",
    "                     c = t) # feel free to add more settings\n",
    "        # Set titles, labels, etc here for each subplot\n",
    "        ax[i].set_title(list_of_titles[i])\n",
    "        ax[i].set_xlabel(list_of_labels[i][0])\n",
    "        ax[i].set_ylabel(list_of_labels[i][1])\n",
    "    plt.subplots_adjust(left=None, bottom=None, right=None, top=None, wspace=0.3, hspace=0.5)"
   ]
  },
  {
   "cell_type": "code",
   "execution_count": 55,
   "metadata": {},
   "outputs": [
    {
     "data": {
      "text/plain": [
       "Index(['state', 'act_participation', 'act_english', 'act_math', 'act_reading',\n",
       "       'act_science', 'act_composite', 'sat_participation', 'sat_ebrw',\n",
       "       'sat_math', 'sat_total', 'act_participation_2018', 'act_composite_2018',\n",
       "       'sat_participation_2018', 'sat_total_2018'],\n",
       "      dtype='object')"
      ]
     },
     "execution_count": 55,
     "metadata": {},
     "output_type": "execute_result"
    }
   ],
   "source": [
    "final_df1.columns"
   ]
  },
  {
   "cell_type": "code",
   "execution_count": 56,
   "metadata": {},
   "outputs": [],
   "source": [
    "#Converting requirements into lists for inputs to the plotting function\n",
    "list_of_comparisons =[('act_math','sat_math'),\n",
    "                      ('act_reading','sat_ebrw'), \n",
    "                      ('act_composite','sat_total'),\n",
    "                     ('sat_total','sat_total_2018'),\n",
    "                     ('act_composite','act_composite_2018')]\n",
    "\n",
    "list_of_titles = [('ACT Math VS SAT Math'), \n",
    "                  ('SAT EBRW VS ACT Reading'),\n",
    "                 ('ACT Composite Vs SAT Total'),\n",
    "                 ('Sat total 2017 Vs Sat total 2018'),\n",
    "                 ('ACT composite 2017','ACT composite 2018')]\n",
    "\n",
    "list_of_labels = [('ACT math score','SAT math score'),\n",
    "                   ('ACT Reading score','SAT EBRW Score'), \n",
    "                   ('ACT Composite Score','SAT total'),\n",
    "                   ('SAT Total 2017','SAT Total 2018'),\n",
    "                   ('ACT Composite','ACT Composite 2018')]"
   ]
  },
  {
   "cell_type": "code",
   "execution_count": 57,
   "metadata": {},
   "outputs": [
    {
     "data": {
      "image/png": "[encoded data removed]",
      "text/plain": [
       "<Figure size 864x864 with 6 Axes>"
      ]
     },
     "metadata": {
      "needs_background": "light"
     },
     "output_type": "display_data"
    }
   ],
   "source": [
    "#Plotting the scatter plots\n",
    "subplot_scatter(final_df1, list_of_comparisons, list_of_titles, list_of_labels)"
   ]
  },
  {
   "cell_type": "markdown",
   "metadata": {},
   "source": [
    "#### Plot and interpret boxplots\n",
    "\n",
    "For each numeric variable in the dataframe create a boxplot using Seaborn. Boxplots demonstrate central tendency and spread in variables. In a certain sense, these are somewhat redundant with histograms, but you may be better able to identify clear outliers or differences in IQR, etc.\n",
    "\n",
    "Multiple values can be plotted to a single boxplot as long as they are of the same relative scale (meaning they have similar min/max values).\n",
    "\n",
    "Each boxplot should:\n",
    "- Only include variables of a similar scale\n",
    "- Have clear labels for each variable\n",
    "- Have appropriate titles and labels"
   ]
  },
  {
   "cell_type": "code",
   "execution_count": 95,
   "metadata": {},
   "outputs": [
    {
     "data": {
      "image/png": "[encoded data removed]",
      "text/plain": [
       "<Figure size 864x576 with 1 Axes>"
      ]
     },
     "metadata": {
      "needs_background": "light"
     },
     "output_type": "display_data"
    }
   ],
   "source": [
    "import seaborn as sns\n",
    "#Participation rates\n",
    "\n",
    "plt.figure(figsize= (12,8))\n",
    "sns.boxplot(data= (final_df1['act_participation'], \n",
    "                   final_df1['sat_participation'], \n",
    "                   final_df1['act_participation_2018'], \n",
    "                   final_df1['sat_participation_2018']))\n",
    "plt.ylabel('Participation')\n",
    "plt.xticks((np.arange(4)), ('act_participation', \n",
    "                            'sat_participation', \n",
    "                            'act_participation_2018',\n",
    "                           'sat_participation_2018'));"
   ]
  },
  {
   "cell_type": "code",
   "execution_count": 101,
   "metadata": {},
   "outputs": [
    {
     "data": {
      "image/png": "[encoded data removed]",
      "text/plain": [
       "<Figure size 864x576 with 1 Axes>"
      ]
     },
     "metadata": {
      "needs_background": "light"
     },
     "output_type": "display_data"
    }
   ],
   "source": [
    "#ACT Scores\n",
    "plt.figure(figsize= (12,8))\n",
    "\n",
    "sns.boxplot(data= (final_df1['act_english'], \n",
    "                   final_df1['act_math'], \n",
    "                   final_df1['act_reading'], \n",
    "                   final_df1['act_science'],\n",
    "                  final_df1['act_composite']))\n",
    "plt.xticks((np.arange(5)),('act_english', \n",
    "                            'act_math', \n",
    "                            'act_reading',\n",
    "                            'act_science',\n",
    "                            'act_composite'));"
   ]
  },
  {
   "cell_type": "markdown",
   "metadata": {},
   "source": [
    "## Descriptive and Inferential Statistics"
   ]
  },
  {
   "cell_type": "markdown",
   "metadata": {},
   "source": [
    "#### Summarizing Distributions\n",
    "\n",
    "Above, we used pandas `describe` to provide quick summary statistics of our numeric columns. We also demonstrated many visual relationships.\n",
    "\n",
    "As data scientists, having a complete understanding of data is imperative prior to modeling.\n",
    "\n",
    "While we will continue to build our analytic tools, we know that measures of *central tendency*, *spread*, and *shape/skewness* provide a quick summary of distributions.\n",
    "\n",
    "For each variable in your data, summarize the underlying distributions (in words & statistics)\n",
    " - Be thorough in your verbal description of these distributions.\n",
    " - Be sure to back up these summaries with statistics."
   ]
  },
  {
   "cell_type": "code",
   "execution_count": 103,
   "metadata": {},
   "outputs": [
    {
     "data": {
      "text/html": [
       "<div>\n",
       "<style scoped>\n",
       "    .dataframe tbody tr th:only-of-type {\n",
       "        vertical-align: middle;\n",
       "    }\n",
       "\n",
       "    .dataframe tbody tr th {\n",
       "        vertical-align: top;\n",
       "    }\n",
       "\n",
       "    .dataframe thead th {\n",
       "        text-align: right;\n",
       "    }\n",
       "</style>\n",
       "<table border=\"1\" class=\"dataframe\">\n",
       "  <thead>\n",
       "    <tr style=\"text-align: right;\">\n",
       "      <th></th>\n",
       "      <th>count</th>\n",
       "      <th>mean</th>\n",
       "      <th>std</th>\n",
       "      <th>min</th>\n",
       "      <th>25%</th>\n",
       "      <th>50%</th>\n",
       "      <th>75%</th>\n",
       "      <th>max</th>\n",
       "    </tr>\n",
       "  </thead>\n",
       "  <tbody>\n",
       "    <tr>\n",
       "      <th>act_participation</th>\n",
       "      <td>50.0</td>\n",
       "      <td>64.560</td>\n",
       "      <td>32.077814</td>\n",
       "      <td>8.0</td>\n",
       "      <td>31.000</td>\n",
       "      <td>68.00</td>\n",
       "      <td>100.000</td>\n",
       "      <td>100.0</td>\n",
       "    </tr>\n",
       "    <tr>\n",
       "      <th>act_english</th>\n",
       "      <td>50.0</td>\n",
       "      <td>20.980</td>\n",
       "      <td>2.351552</td>\n",
       "      <td>16.3</td>\n",
       "      <td>19.100</td>\n",
       "      <td>20.80</td>\n",
       "      <td>23.300</td>\n",
       "      <td>25.5</td>\n",
       "    </tr>\n",
       "    <tr>\n",
       "      <th>act_math</th>\n",
       "      <td>50.0</td>\n",
       "      <td>21.230</td>\n",
       "      <td>1.972386</td>\n",
       "      <td>18.0</td>\n",
       "      <td>19.500</td>\n",
       "      <td>21.05</td>\n",
       "      <td>23.100</td>\n",
       "      <td>25.3</td>\n",
       "    </tr>\n",
       "    <tr>\n",
       "      <th>act_reading</th>\n",
       "      <td>50.0</td>\n",
       "      <td>22.052</td>\n",
       "      <td>2.069925</td>\n",
       "      <td>18.1</td>\n",
       "      <td>20.500</td>\n",
       "      <td>21.85</td>\n",
       "      <td>24.175</td>\n",
       "      <td>26.0</td>\n",
       "    </tr>\n",
       "    <tr>\n",
       "      <th>act_science</th>\n",
       "      <td>50.0</td>\n",
       "      <td>21.070</td>\n",
       "      <td>3.208042</td>\n",
       "      <td>2.3</td>\n",
       "      <td>19.925</td>\n",
       "      <td>21.30</td>\n",
       "      <td>22.975</td>\n",
       "      <td>24.9</td>\n",
       "    </tr>\n",
       "    <tr>\n",
       "      <th>act_composite</th>\n",
       "      <td>50.0</td>\n",
       "      <td>21.562</td>\n",
       "      <td>2.018172</td>\n",
       "      <td>17.8</td>\n",
       "      <td>19.850</td>\n",
       "      <td>21.40</td>\n",
       "      <td>23.600</td>\n",
       "      <td>25.5</td>\n",
       "    </tr>\n",
       "    <tr>\n",
       "      <th>sat_participation</th>\n",
       "      <td>50.0</td>\n",
       "      <td>40.460</td>\n",
       "      <td>35.319076</td>\n",
       "      <td>2.0</td>\n",
       "      <td>4.000</td>\n",
       "      <td>40.50</td>\n",
       "      <td>66.500</td>\n",
       "      <td>100.0</td>\n",
       "    </tr>\n",
       "    <tr>\n",
       "      <th>sat_ebrw</th>\n",
       "      <td>50.0</td>\n",
       "      <td>569.900</td>\n",
       "      <td>45.783987</td>\n",
       "      <td>482.0</td>\n",
       "      <td>535.250</td>\n",
       "      <td>559.50</td>\n",
       "      <td>613.500</td>\n",
       "      <td>644.0</td>\n",
       "    </tr>\n",
       "    <tr>\n",
       "      <th>sat_math</th>\n",
       "      <td>50.0</td>\n",
       "      <td>548.240</td>\n",
       "      <td>85.657257</td>\n",
       "      <td>52.0</td>\n",
       "      <td>523.250</td>\n",
       "      <td>549.50</td>\n",
       "      <td>601.000</td>\n",
       "      <td>651.0</td>\n",
       "    </tr>\n",
       "    <tr>\n",
       "      <th>sat_total</th>\n",
       "      <td>50.0</td>\n",
       "      <td>1127.680</td>\n",
       "      <td>92.734301</td>\n",
       "      <td>950.0</td>\n",
       "      <td>1057.000</td>\n",
       "      <td>1107.50</td>\n",
       "      <td>1214.000</td>\n",
       "      <td>1295.0</td>\n",
       "    </tr>\n",
       "    <tr>\n",
       "      <th>act_participation_2018</th>\n",
       "      <td>50.0</td>\n",
       "      <td>60.920</td>\n",
       "      <td>33.933813</td>\n",
       "      <td>7.0</td>\n",
       "      <td>27.750</td>\n",
       "      <td>65.50</td>\n",
       "      <td>100.000</td>\n",
       "      <td>100.0</td>\n",
       "    </tr>\n",
       "    <tr>\n",
       "      <th>act_composite_2018</th>\n",
       "      <td>50.0</td>\n",
       "      <td>21.542</td>\n",
       "      <td>2.115549</td>\n",
       "      <td>17.7</td>\n",
       "      <td>20.000</td>\n",
       "      <td>21.30</td>\n",
       "      <td>23.675</td>\n",
       "      <td>25.6</td>\n",
       "    </tr>\n",
       "    <tr>\n",
       "      <th>sat_participation_2018</th>\n",
       "      <td>50.0</td>\n",
       "      <td>47.400</td>\n",
       "      <td>37.993555</td>\n",
       "      <td>2.0</td>\n",
       "      <td>4.250</td>\n",
       "      <td>53.50</td>\n",
       "      <td>79.750</td>\n",
       "      <td>100.0</td>\n",
       "    </tr>\n",
       "    <tr>\n",
       "      <th>sat_total_2018</th>\n",
       "      <td>50.0</td>\n",
       "      <td>1125.920</td>\n",
       "      <td>94.389519</td>\n",
       "      <td>977.0</td>\n",
       "      <td>1063.250</td>\n",
       "      <td>1099.00</td>\n",
       "      <td>1225.000</td>\n",
       "      <td>1298.0</td>\n",
       "    </tr>\n",
       "  </tbody>\n",
       "</table>\n",
       "</div>"
      ],
      "text/plain": [
       "                        count      mean        std    min       25%      50%  \\\n",
       "act_participation        50.0    64.560  32.077814    8.0    31.000    68.00   \n",
       "act_english              50.0    20.980   2.351552   16.3    19.100    20.80   \n",
       "act_math                 50.0    21.230   1.972386   18.0    19.500    21.05   \n",
       "act_reading              50.0    22.052   2.069925   18.1    20.500    21.85   \n",
       "act_science              50.0    21.070   3.208042    2.3    19.925    21.30   \n",
       "act_composite            50.0    21.562   2.018172   17.8    19.850    21.40   \n",
       "sat_participation        50.0    40.460  35.319076    2.0     4.000    40.50   \n",
       "sat_ebrw                 50.0   569.900  45.783987  482.0   535.250   559.50   \n",
       "sat_math                 50.0   548.240  85.657257   52.0   523.250   549.50   \n",
       "sat_total                50.0  1127.680  92.734301  950.0  1057.000  1107.50   \n",
       "act_participation_2018   50.0    60.920  33.933813    7.0    27.750    65.50   \n",
       "act_composite_2018       50.0    21.542   2.115549   17.7    20.000    21.30   \n",
       "sat_participation_2018   50.0    47.400  37.993555    2.0     4.250    53.50   \n",
       "sat_total_2018           50.0  1125.920  94.389519  977.0  1063.250  1099.00   \n",
       "\n",
       "                             75%     max  \n",
       "act_participation        100.000   100.0  \n",
       "act_english               23.300    25.5  \n",
       "act_math                  23.100    25.3  \n",
       "act_reading               24.175    26.0  \n",
       "act_science               22.975    24.9  \n",
       "act_composite             23.600    25.5  \n",
       "sat_participation         66.500   100.0  \n",
       "sat_ebrw                 613.500   644.0  \n",
       "sat_math                 601.000   651.0  \n",
       "sat_total               1214.000  1295.0  \n",
       "act_participation_2018   100.000   100.0  \n",
       "act_composite_2018        23.675    25.6  \n",
       "sat_participation_2018    79.750   100.0  \n",
       "sat_total_2018          1225.000  1298.0  "
      ]
     },
     "execution_count": 103,
     "metadata": {},
     "output_type": "execute_result"
    }
   ],
   "source": [
    "final_df1.describe().T"
   ]
  },
  {
   "cell_type": "code",
   "execution_count": 110,
   "metadata": {},
   "outputs": [
    {
     "data": {
      "image/png": "[encoded data removed]",
      "text/plain": [
       "<Figure size 864x864 with 16 Axes>"
      ]
     },
     "metadata": {
      "needs_background": "light"
     },
     "output_type": "display_data"
    }
   ],
   "source": [
    "final_df1.hist( figsize= (12,12));"
   ]
  },
  {
   "cell_type": "markdown",
   "metadata": {},
   "source": [
    "#### We generally assuming that data we sample from a population will be normally distributed. Do we observe this trend?"
   ]
  },
  {
   "cell_type": "markdown",
   "metadata": {},
   "source": [
    "Answer:"
   ]
  },
  {
   "cell_type": "markdown",
   "metadata": {},
   "source": [
    "Does This Assumption Hold for:\n",
    "    - Math\n",
    "    - Reading\n",
    "    - Rates\n",
    "Explain your answers for each distribution and how you think this will affect estimates made from these data."
   ]
  },
  {
   "cell_type": "markdown",
   "metadata": {},
   "source": [
    "The data of means are not normally distributed in this dataset.The distributions for math is heavily skewd to the right in case of SAT data and not normally distributed in case of ACT data. In case of Reading, the data does tend towards a normal distribution but is not."
   ]
  },
  {
   "cell_type": "code",
   "execution_count": 124,
   "metadata": {},
   "outputs": [
    {
     "data": {
      "text/plain": [
       "<matplotlib.axes._subplots.AxesSubplot at 0x1a1cf30588>"
      ]
     },
     "execution_count": 124,
     "metadata": {},
     "output_type": "execute_result"
    },
    {
     "data": {
      "image/png": "[encoded data removed]",
      "text/plain": [
       "<Figure size 432x288 with 1 Axes>"
      ]
     },
     "metadata": {
      "needs_background": "light"
     },
     "output_type": "display_data"
    }
   ],
   "source": [
    "sns.distplot(final_df1['act_reading'])"
   ]
  },
  {
   "cell_type": "markdown",
   "metadata": {},
   "source": [
    "#### Estimate Limits of Data\n",
    "\n",
    "Suppose we only seek to understand the relationship between SAT and ACT participation rates in 2017. \n",
    "\n",
    "##### Does it make sense to conduct statistical inference given these data specifically? \n",
    "\n",
    "Why or why not?\n",
    "\n",
    "*(think about granularity, aggregation, the relationships between populations size & rates...consider the actually populations these data describe in answering this question)*"
   ]
  },
  {
   "cell_type": "markdown",
   "metadata": {},
   "source": [
    "Answer:"
   ]
  },
  {
   "cell_type": "code",
   "execution_count": 132,
   "metadata": {},
   "outputs": [
    {
     "data": {
      "text/plain": [
       "<seaborn.axisgrid.PairGrid at 0x1a26a8ffd0>"
      ]
     },
     "execution_count": 132,
     "metadata": {},
     "output_type": "execute_result"
    },
    {
     "data": {
      "image/png": "[encoded data removed]",
      "text/plain": [
       "<Figure size 360x360 with 6 Axes>"
      ]
     },
     "metadata": {
      "needs_background": "light"
     },
     "output_type": "display_data"
    }
   ],
   "source": [
    "sns.pairplot(data = final_df1, vars = ['sat_participation','act_participation'])"
   ]
  },
  {
   "cell_type": "markdown",
   "metadata": {},
   "source": [
    "##### Is it appropriate to compare *these* specific SAT and ACT math scores? \n",
    "\n",
    "Why or why not?"
   ]
  },
  {
   "cell_type": "code",
   "execution_count": 139,
   "metadata": {},
   "outputs": [
    {
     "data": {
      "text/plain": [
       "<seaborn.axisgrid.PairGrid at 0x1a270dcf28>"
      ]
     },
     "execution_count": 139,
     "metadata": {},
     "output_type": "execute_result"
    },
    {
     "data": {
      "image/png": "[encoded data removed]",
      "text/plain": [
       "<Figure size 360x360 with 6 Axes>"
      ]
     },
     "metadata": {
      "needs_background": "light"
     },
     "output_type": "display_data"
    }
   ],
   "source": [
    "sns.pairplot(data = final_df1, vars = ['sat_math','act_math'])"
   ]
  },
  {
   "cell_type": "markdown",
   "metadata": {},
   "source": [
    "#### Statistical Evaluation of Distributions \n",
    "\n",
    "**If you feel it's appropriate**, using methods we discussed in class, run hypothesis tests to compare variables of interest in our dataset. "
   ]
  },
  {
   "cell_type": "code",
   "execution_count": 134,
   "metadata": {},
   "outputs": [],
   "source": [
    "from scipy import stats\n",
    "tt = stats.ttest_ind(final_df['sat_math'], final_df1['act_math'], equal_var = False)"
   ]
  },
  {
   "cell_type": "code",
   "execution_count": 136,
   "metadata": {},
   "outputs": [
    {
     "name": "stdout",
     "output_type": "stream",
     "text": [
      "44.261389999584416\n"
     ]
    }
   ],
   "source": [
    "p_value = tt.statistic\n",
    "t_stat = tt.statistic\n",
    "\n",
    "if p_value < 0.05:\n",
    "    print(\"Statistically significat\")\n",
    "else:\n",
    "    print(p_value)"
   ]
  },
  {
   "cell_type": "markdown",
   "metadata": {},
   "source": [
    "Because our $p$-value is above 0.05, we fail to reject the null hypothesis. We do not have enouhgh evidence to conclude that mean score differs between SAT Math scores and ACT math scores."
   ]
  },
  {
   "cell_type": "markdown",
   "metadata": {},
   "source": [
    "## FOCUS ON HAWAII"
   ]
  },
  {
   "cell_type": "code",
   "execution_count": 144,
   "metadata": {},
   "outputs": [
    {
     "data": {
      "text/html": [
       "<div>\n",
       "<style scoped>\n",
       "    .dataframe tbody tr th:only-of-type {\n",
       "        vertical-align: middle;\n",
       "    }\n",
       "\n",
       "    .dataframe tbody tr th {\n",
       "        vertical-align: top;\n",
       "    }\n",
       "\n",
       "    .dataframe thead th {\n",
       "        text-align: right;\n",
       "    }\n",
       "</style>\n",
       "<table border=\"1\" class=\"dataframe\">\n",
       "  <thead>\n",
       "    <tr style=\"text-align: right;\">\n",
       "      <th></th>\n",
       "      <th>state</th>\n",
       "      <th>act_participation</th>\n",
       "      <th>act_english</th>\n",
       "      <th>act_math</th>\n",
       "      <th>act_reading</th>\n",
       "      <th>act_science</th>\n",
       "      <th>act_composite</th>\n",
       "      <th>sat_participation</th>\n",
       "      <th>sat_ebrw</th>\n",
       "      <th>sat_math</th>\n",
       "      <th>sat_total</th>\n",
       "      <th>act_participation_2018</th>\n",
       "      <th>act_composite_2018</th>\n",
       "      <th>sat_participation_2018</th>\n",
       "      <th>sat_total_2018</th>\n",
       "    </tr>\n",
       "  </thead>\n",
       "  <tbody>\n",
       "    <tr>\n",
       "      <th>11</th>\n",
       "      <td>Hawaii</td>\n",
       "      <td>90.0</td>\n",
       "      <td>17.8</td>\n",
       "      <td>19.2</td>\n",
       "      <td>19.2</td>\n",
       "      <td>19.3</td>\n",
       "      <td>19.0</td>\n",
       "      <td>55.0</td>\n",
       "      <td>544.0</td>\n",
       "      <td>541.0</td>\n",
       "      <td>1085.0</td>\n",
       "      <td>89</td>\n",
       "      <td>18.9</td>\n",
       "      <td>56</td>\n",
       "      <td>1099</td>\n",
       "    </tr>\n",
       "  </tbody>\n",
       "</table>\n",
       "</div>"
      ],
      "text/plain": [
       "     state  act_participation  act_english  act_math  act_reading  \\\n",
       "11  Hawaii               90.0         17.8      19.2         19.2   \n",
       "\n",
       "    act_science  act_composite  sat_participation  sat_ebrw  sat_math  \\\n",
       "11         19.3           19.0               55.0     544.0     541.0   \n",
       "\n",
       "    sat_total  act_participation_2018  act_composite_2018  \\\n",
       "11     1085.0                      89                18.9   \n",
       "\n",
       "    sat_participation_2018  sat_total_2018  \n",
       "11                      56            1099  "
      ]
     },
     "execution_count": 144,
     "metadata": {},
     "output_type": "execute_result"
    }
   ],
   "source": [
    "Hawaii = final_df1[final_df1['state']== 'Hawaii']\n",
    "Hawaii"
   ]
  },
  {
   "cell_type": "code",
   "execution_count": 221,
   "metadata": {},
   "outputs": [],
   "source": [
    "#For ACT scores\n",
    "national_mean = final_df1[['act_english', 'act_math', 'act_reading', 'act_science', 'act_composite']].mean()\n",
    "hawaii_act = Hawaii[['act_english', 'act_math', 'act_reading', 'act_science', 'act_composite']].mean()"
   ]
  },
  {
   "cell_type": "code",
   "execution_count": 222,
   "metadata": {},
   "outputs": [
    {
     "data": {
      "text/html": [
       "<div>\n",
       "<style scoped>\n",
       "    .dataframe tbody tr th:only-of-type {\n",
       "        vertical-align: middle;\n",
       "    }\n",
       "\n",
       "    .dataframe tbody tr th {\n",
       "        vertical-align: top;\n",
       "    }\n",
       "\n",
       "    .dataframe thead th {\n",
       "        text-align: right;\n",
       "    }\n",
       "</style>\n",
       "<table border=\"1\" class=\"dataframe\">\n",
       "  <thead>\n",
       "    <tr style=\"text-align: right;\">\n",
       "      <th></th>\n",
       "      <th>national_mean</th>\n",
       "      <th>hawaii_act</th>\n",
       "    </tr>\n",
       "  </thead>\n",
       "  <tbody>\n",
       "    <tr>\n",
       "      <th>act_english</th>\n",
       "      <td>20.980</td>\n",
       "      <td>17.8</td>\n",
       "    </tr>\n",
       "    <tr>\n",
       "      <th>act_math</th>\n",
       "      <td>21.230</td>\n",
       "      <td>19.2</td>\n",
       "    </tr>\n",
       "    <tr>\n",
       "      <th>act_reading</th>\n",
       "      <td>22.052</td>\n",
       "      <td>19.2</td>\n",
       "    </tr>\n",
       "    <tr>\n",
       "      <th>act_science</th>\n",
       "      <td>21.070</td>\n",
       "      <td>19.3</td>\n",
       "    </tr>\n",
       "    <tr>\n",
       "      <th>act_composite</th>\n",
       "      <td>21.562</td>\n",
       "      <td>19.0</td>\n",
       "    </tr>\n",
       "  </tbody>\n",
       "</table>\n",
       "</div>"
      ],
      "text/plain": [
       "               national_mean  hawaii_act\n",
       "act_english           20.980        17.8\n",
       "act_math              21.230        19.2\n",
       "act_reading           22.052        19.2\n",
       "act_science           21.070        19.3\n",
       "act_composite         21.562        19.0"
      ]
     },
     "execution_count": 222,
     "metadata": {},
     "output_type": "execute_result"
    }
   ],
   "source": [
    "df = pd.DataFrame(columns = ['national_mean', 'hawaii_act'], index = [national_mean.index])\n",
    "df['national_mean'] = national_mean.values\n",
    "df['hawaii_act'] = hawaii_act.values\n",
    "df"
   ]
  },
  {
   "cell_type": "code",
   "execution_count": 245,
   "metadata": {},
   "outputs": [
    {
     "data": {
      "text/plain": [
       "Text(0.5, 1.0, 'Hawaii ACT Scores Vs National Average')"
      ]
     },
     "execution_count": 245,
     "metadata": {},
     "output_type": "execute_result"
    },
    {
     "data": {
      "image/png": "[encoded data removed]",
      "text/plain": [
       "<Figure size 864x360 with 1 Axes>"
      ]
     },
     "metadata": {
      "needs_background": "light"
     },
     "output_type": "display_data"
    }
   ],
   "source": [
    "df.plot(kind = 'bar', figsize=(12,5), ylim=(0,30))\n",
    "plt.ylabel('Scores')\n",
    "plt.xticks(rotation = 0);\n",
    "plt.title('Hawaii ACT Scores Vs National Average')"
   ]
  },
  {
   "cell_type": "code",
   "execution_count": 244,
   "metadata": {},
   "outputs": [
    {
     "data": {
      "image/png": "[encoded data removed]",
      "text/plain": [
       "<Figure size 864x360 with 1 Axes>"
      ]
     },
     "metadata": {
      "needs_background": "light"
     },
     "output_type": "display_data"
    }
   ],
   "source": [
    "#For SAT\n",
    "national_mean_sat = final_df1[['sat_ebrw','sat_math', 'sat_total']].mean()\n",
    "hawaii_sat = Hawaii[['sat_ebrw','sat_math', 'sat_total']].mean()\n",
    "\n",
    "df1 = pd.DataFrame(columns = ['national_mean_sat', 'hawaii_sat'], index = [national_mean_sat.index])\n",
    "df1['national_mean_sat'] = national_mean_sat.values\n",
    "df1['hawaii_sat'] = hawaii_sat.values\n",
    "df1.plot(kind = 'bar', figsize=(12,5))\n",
    "plt.ylabel('Scores')\n",
    "plt.xticks(rotation = 0);\n",
    "plt.title('Hawaii SAT Scores Vs National Average');"
   ]
  },
  {
   "cell_type": "code",
   "execution_count": 262,
   "metadata": {},
   "outputs": [
    {
     "data": {
      "text/html": [
       "<div>\n",
       "<style scoped>\n",
       "    .dataframe tbody tr th:only-of-type {\n",
       "        vertical-align: middle;\n",
       "    }\n",
       "\n",
       "    .dataframe tbody tr th {\n",
       "        vertical-align: top;\n",
       "    }\n",
       "\n",
       "    .dataframe thead th {\n",
       "        text-align: right;\n",
       "    }\n",
       "</style>\n",
       "<table border=\"1\" class=\"dataframe\">\n",
       "  <thead>\n",
       "    <tr style=\"text-align: right;\">\n",
       "      <th></th>\n",
       "      <th>national_mean_part</th>\n",
       "      <th>hawaii_part</th>\n",
       "    </tr>\n",
       "  </thead>\n",
       "  <tbody>\n",
       "    <tr>\n",
       "      <th>sat_participation</th>\n",
       "      <td>40.46</td>\n",
       "      <td>55.0</td>\n",
       "    </tr>\n",
       "    <tr>\n",
       "      <th>act_participation</th>\n",
       "      <td>64.56</td>\n",
       "      <td>90.0</td>\n",
       "    </tr>\n",
       "    <tr>\n",
       "      <th>sat_participation_2018</th>\n",
       "      <td>47.40</td>\n",
       "      <td>56.0</td>\n",
       "    </tr>\n",
       "    <tr>\n",
       "      <th>act_participation_2018</th>\n",
       "      <td>60.92</td>\n",
       "      <td>89.0</td>\n",
       "    </tr>\n",
       "  </tbody>\n",
       "</table>\n",
       "</div>"
      ],
      "text/plain": [
       "                        national_mean_part  hawaii_part\n",
       "sat_participation                    40.46         55.0\n",
       "act_participation                    64.56         90.0\n",
       "sat_participation_2018               47.40         56.0\n",
       "act_participation_2018               60.92         89.0"
      ]
     },
     "execution_count": 262,
     "metadata": {},
     "output_type": "execute_result"
    }
   ],
   "source": [
    "df_part"
   ]
  },
  {
   "cell_type": "code",
   "execution_count": 242,
   "metadata": {},
   "outputs": [
    {
     "data": {
      "text/html": [
       "<div>\n",
       "<style scoped>\n",
       "    .dataframe tbody tr th:only-of-type {\n",
       "        vertical-align: middle;\n",
       "    }\n",
       "\n",
       "    .dataframe tbody tr th {\n",
       "        vertical-align: top;\n",
       "    }\n",
       "\n",
       "    .dataframe thead th {\n",
       "        text-align: right;\n",
       "    }\n",
       "</style>\n",
       "<table border=\"1\" class=\"dataframe\">\n",
       "  <thead>\n",
       "    <tr style=\"text-align: right;\">\n",
       "      <th></th>\n",
       "      <th>national_mean_sat</th>\n",
       "      <th>hawaii_sat</th>\n",
       "    </tr>\n",
       "  </thead>\n",
       "  <tbody>\n",
       "    <tr>\n",
       "      <th>sat_ebrw</th>\n",
       "      <td>569.90</td>\n",
       "      <td>544.0</td>\n",
       "    </tr>\n",
       "    <tr>\n",
       "      <th>sat_math</th>\n",
       "      <td>548.24</td>\n",
       "      <td>541.0</td>\n",
       "    </tr>\n",
       "    <tr>\n",
       "      <th>sat_total</th>\n",
       "      <td>1127.68</td>\n",
       "      <td>1085.0</td>\n",
       "    </tr>\n",
       "  </tbody>\n",
       "</table>\n",
       "</div>"
      ],
      "text/plain": [
       "           national_mean_sat  hawaii_sat\n",
       "sat_ebrw              569.90       544.0\n",
       "sat_math              548.24       541.0\n",
       "sat_total            1127.68      1085.0"
      ]
     },
     "execution_count": 242,
     "metadata": {},
     "output_type": "execute_result"
    }
   ],
   "source": [
    "df1"
   ]
  },
  {
   "cell_type": "code",
   "execution_count": 247,
   "metadata": {},
   "outputs": [
    {
     "data": {
      "image/png": "[encoded data removed]",
      "text/plain": [
       "<Figure size 864x360 with 1 Axes>"
      ]
     },
     "metadata": {
      "needs_background": "light"
     },
     "output_type": "display_data"
    }
   ],
   "source": [
    "#Participation\n",
    "national_mean_part = final_df1[['sat_participation',\n",
    "                                'act_participation', \n",
    "                                'sat_participation_2018', \n",
    "                                'act_participation_2018']].mean()\n",
    "\n",
    "hawaii_part = Hawaii[['sat_participation',\n",
    "                      'act_participation',\n",
    "                      'sat_participation_2018',\n",
    "                      'act_participation_2018']].mean()\n",
    "\n",
    "\n",
    "df_part = pd.DataFrame(columns = ['national_mean_part', 'hawaii_part'], index = [national_mean_part.index])\n",
    "df_part['national_mean_part'] = national_mean_part.values\n",
    "df_part['hawaii_part'] = hawaii_part.values\n",
    "df_part.plot(kind = 'bar', figsize=(12,5))\n",
    "plt.ylabel('% of Participation')\n",
    "plt.xticks(rotation = 0);\n",
    "plt.title('Hawaii Test Participation Vs National Average');"
   ]
  },
  {
   "cell_type": "code",
   "execution_count": 259,
   "metadata": {},
   "outputs": [
    {
     "data": {
      "image/png": "[encoded data removed]",
      "text/plain": [
       "<Figure size 432x288 with 2 Axes>"
      ]
     },
     "metadata": {
      "needs_background": "light"
     },
     "output_type": "display_data"
    }
   ],
   "source": [
    "sns.heatmap(final_df1[['sat_participation',\n",
    "           'act_participation', \n",
    "           'sat_participation_2018', \n",
    "           'act_participation_2018',\n",
    "          'sat_total',\n",
    "          'act_composite']].corr(), cmap ='coolwarm', annot = True);"
   ]
  },
  {
   "cell_type": "markdown",
   "metadata": {},
   "source": [
    "## Outside Research"
   ]
  },
  {
   "cell_type": "markdown",
   "metadata": {},
   "source": [
    "Based upon your observations, choose **three** states that demonstrate interesting trends in their SAT and/or ACT participation rates. Spend some time doing outside research on state policies that might influence these rates, and summarize your findings below. **Feel free to go back and create new plots that highlight these states of interest**. If you bring in any outside tables or charts, make sure you are explicit about having borrowed them. If you quote any text, make sure that it renders as being quoted. (Make sure that you cite your sources -- check with you local instructor for citation preferences)."
   ]
  },
  {
   "cell_type": "markdown",
   "metadata": {},
   "source": [
    "\n",
    "Just 1 in 10 Hawaii public school students in the Class of 2016 earned ACT scores considered ready for college-level coursework \n",
    "Public schools started making the ACT mandatory for all Hawaii public school juniors in 2014.\n",
    "Due to lowest performance across IQ stats, SAT, ACT, and % of college graduates, Hawaii was called the least intelligent state in 2015\n"
   ]
  },
  {
   "cell_type": "markdown",
   "metadata": {},
   "source": [
    "## Conclusions and Recommendations"
   ]
  },
  {
   "cell_type": "markdown",
   "metadata": {},
   "source": [
    "Based on your exploration of the data, what are you key takeaways and recommendations? Choose one state with a lower participation rate and provide a suggestion for how the College Board might increase participation amongst graduating seniors in this state. Are there additional data you desire that would better inform your investigations?"
   ]
  },
  {
   "cell_type": "markdown",
   "metadata": {},
   "source": [
    "Student adversity is an important factor to be researched\n",
    "SAT will be adding an adversity factor for forthcoming tests to account for the students socio-economic backgrounds (Source: nytimes  ) \n",
    "Making a test mandatory and increasing participation is not the best approach to achieve performance\n",
    "Participation and performance are inversely proportional\n",
    "States like Minnesota should be candidates for further research as it has a very low participation rate and yet high scores on the SAT.\n"
   ]
  }
 ],
 "metadata": {
  "anaconda-cloud": {},
  "kernelspec": {
   "display_name": "Python 3",
   "language": "python",
   "name": "python3"
  },
  "language_info": {
   "codemirror_mode": {
    "name": "ipython",
    "version": 3
   },
   "file_extension": ".py",
   "mimetype": "text/x-python",
   "name": "python",
   "nbconvert_exporter": "python",
   "pygments_lexer": "ipython3",
   "version": "3.7.3"
  }
 },
 "nbformat": 4,
 "nbformat_minor": 2
}
